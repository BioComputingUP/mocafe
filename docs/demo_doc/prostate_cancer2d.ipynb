{
  "cells": [
    {
      "cell_type": "code",
      "execution_count": null,
      "metadata": {
        "collapsed": false
      },
      "outputs": [],
      "source": [
        "%matplotlib inline"
      ]
    },
    {
      "cell_type": "markdown",
      "metadata": {},
      "source": [
        "\n# Prostate cancer phase field model\n\nThis demo presents how to simulate a prostate cancer phase field model presented by G. Lorenzo and collaborators\nin 2016 :cite:`Lorenzo2016` using FEniCS and mocafe.\n\n## Brief introduction to the mathematical model\n\nThe model was published on PNAS in 2016 and presentes a continuous mathematical model able to reproduce the\ngrowth pattern of prostate cancer at tissue scale :cite:`Lorenzo2016`.\n\nThe model is composed of just two equations. The first one is for the cancer phase field $\\varphi$, and reads:\n\n\\begin{align}\\frac{\\partial \\varphi}{\\partial t} = \\lambda \\nabla^2 \\varphi - \\frac{1}{\\tau}\\frac{dF(\\varphi)}{d\\varphi}\n    + \\chi \\sigma - A \\varphi\\end{align}\n\nWhere $F(\\varphi)$ is the following double-well potential:\n\n\\begin{align}F(\\varphi) = 16\\cdot \\varphi^2 \\cdot (1 - \\varphi)^2\\end{align}\n\nThe second equation is for the nutrient concentration $\\sigma$:\n\n\\begin{align}\\frac{\\partial \\sigma}{\\partial t} = \\epsilon \\nabla^2\\sigma + s - \\delta\\cdot\\varphi - \\gamma\\cdot\\sigma\\end{align}\n\n.. bibliography:: references.bib\n\n## Implementation\n\nIn the following we will implement the prostate cancer model using FEniCS - with the help of mocafe, starting from the\nimport of the needed modules and the definition of the MPI communicator and rank, which is needed for the parallel\ncomputation:\n\n"
      ]
    },
    {
      "cell_type": "code",
      "execution_count": null,
      "metadata": {
        "collapsed": false
      },
      "outputs": [],
      "source": [
        "import sys\nfrom pathlib import Path\nfile_folder = Path(__file__).parent.resolve()\nmocafe_folder = file_folder.parent.parent\nsys.path.append(str(mocafe_folder))\n\nimport fenics\nfrom mocafe.fenut.fenut import get_mixed_function_space"
      ]
    },
    {
      "cell_type": "markdown",
      "metadata": {},
      "source": [
        "### Definition of the spatial domain and the function space\n\nSimularly to the original paper, we are going to simulate the model on a 2D square mesh of dimension\n2000 x 2000 $\\mu m$. This is pretty simple to do using FEniCs, which provides the class ``RectangleMesh``\nto do this job.\n\nMore precisely, in the following we are going to define a mesh of the dimension described above, with 512 elements for\neach side.\n\n\n"
      ]
    },
    {
      "cell_type": "code",
      "execution_count": null,
      "metadata": {
        "collapsed": false
      },
      "outputs": [],
      "source": [
        "nx = 512\nny = nx\nx_max = 1000  # um\nx_min = -1000  # um\ny_max = x_max\ny_min = x_min\n\nmesh = fenics.RectangleMesh(fenics.Point(x_min, y_min),\n                            fenics.Point(x_max, y_max),\n                            nx,\n                            ny)"
      ]
    },
    {
      "cell_type": "markdown",
      "metadata": {},
      "source": [
        "From the mesh defined above, we can then define the ``FunctionSpace``, that is the set of the piece-wise polynomial\nfunction to be used to represent our solution computed using the finite element method (FEM). Since the model we wish\nto simulate is composed of two coupled equations, we need to define a MixedElement function space with two different\nelements. In this implementation, we will used for both equations the same element type, \"CG\" (Continuous Galerking),\nof the first order, which can be created in FEniCS simply using::\n\n    cg1_element = fenics.FiniteElement(\"CG\", fenics.triangle, 1)\n    mixed_element = fenics.MixedElement([cg1_element] * 2)\n    function_space = fenics.FunctionSpace(mesh, mixed_element)\n\nHowever, the very same operation can be performed quicker using a util method of mocafe, which can\nbe used as follows:\n\n\n"
      ]
    },
    {
      "cell_type": "code",
      "execution_count": null,
      "metadata": {
        "collapsed": false
      },
      "outputs": [],
      "source": [
        "function_space = get_mixed_function_space(mesh, 2, \"CG\", 1)"
      ]
    }
  ],
  "metadata": {
    "kernelspec": {
      "display_name": "Python 3",
      "language": "python",
      "name": "python3"
    },
    "language_info": {
      "codemirror_mode": {
        "name": "ipython",
        "version": 3
      },
      "file_extension": ".py",
      "mimetype": "text/x-python",
      "name": "python",
      "nbconvert_exporter": "python",
      "pygments_lexer": "ipython3",
      "version": "3.6.9"
    }
  },
  "nbformat": 4,
  "nbformat_minor": 0
}