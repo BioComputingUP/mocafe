{
 "cells": [
  {
   "cell_type": "code",
   "execution_count": null,
   "metadata": {
    "collapsed": false
   },
   "outputs": [],
   "source": [
    "%matplotlib inline"
   ]
  },
  {
   "cell_type": "markdown",
   "metadata": {},
   "source": [
    "\n\n# Angiogenesis\nIn this demo we will reproduce the angiogenesis phase field model described by Travasso et al. in 2011\n:cite:`Travasso2011a`. In this implementation, we will simulate a set of discrete cells expressing a generic angiogenic\nfactor (e.g. VEGF), which lead to the sprouting of a 2D vascular network. In the following, we will refer to these cells\nas *source cells*, since are the only source of angiogenic factor in this model.\n\n## How to run this example on Mocafe\nMake sure you have FEniCS and Mocafe installed and download the source script of this page (see above for the link).\n\nThen, download the parameters file for the simulation from\n:download:`this link<./demo_in/angiogenesis_2d/parameters.ods>` and place it inside the folder\n``demo_in/angiogenesis_2d``:\n\n.. code-block:: console\n\n    mkdir demo_in\n    mkdir demo_in/angiogenesis_2d\n    mv parameters.ods demo_in/angiogenesis_2d/\n\nThen, simply run it using python:\n\n.. code-block:: console\n\n    python3 angiogenesis_2d.py\n\nHowever, it is recommended to exploit parallelization to save simulation time:\n\n.. code-block:: console\n\n    mpirun -n 4 python3 angiogenesis_2d.py\n\nNotice that the number following the ``-n`` option is the number of MPI processes you using for parallelize the\nsimulation. You can change it accordingly with your CPU.\n\n\n## Visualize the results of this simulation\nYou need to have `Paraview <https://www.paraview.org/>`_ to visualize the results. Once you have installed it,\nyou can easly import the ``.xdmf`` files generated during the simulation and visualize the result.\n\n## Brief introduction to the mathematical model\nThe model is composed of two main parts interacting together: a set of differential equation and a computational\n\"agent-based\" model. The first part takes into account the continuous dynamics of the angiogenic factor and\nof the capillaries field, while the latter is responsible for the discrete dynamics of the source cells (i.e. the\ncells expressing a generic angiogenic factor, such as VEGF) and of the tip cells (i.e. the cells of endothelial\norigin which lead the sprouting of the new vessels). A complete discussion of this model is above the purpose of this\ndemo so, if you're interested, we suggest you to refer to the original paper :cite:`Travasso2011a`.\nHowever, in the following we provide you a short introduction for your convenience.\n\n### Differential equations\nThe mathematical part is just composed of two partial differential equations (PDEs). The first PDE is for the\nangiogenic factor ($af$) and takes into account: a. its diffusion; b. its consumption by the endothelial\ncapillary cells (the field c). The equation reads:\n\n\\begin{align}\\frac{\\partial af}{\\partial t} = \\nabla (D_{af} \\cdot \\nabla af) - \\alpha_T \\cdot c \\cdot af \\cdot \\Theta(c)\\end{align}\n\nWhere the first part of the right-hand term comes from the Fick's low of diffusion :cite:`enwiki:1058693490`, while\nthe second term is a decrease driven by the c field.\n\nThe second PDE describes the dynamics of the capillaries, which are represented by a field $c$ of extreme\nvalues -1 and +1, where high values represent a part of the domain where the capillary is present, while the low values\nrepresent the parts of the domain where the capillaries are not present. The equation reads:\n\n\\begin{align}\\frac{\\partial c}{\\partial t} = M_c \\nabla^2 \\cdot [-c + c^3 - \\epsilon \\nabla^2 c] + \\alpha_p(af)c\\Theta(c)\\end{align}\n\nAgain, we have two terms composing the right-hand side of the equation: the first term is a Cahn-Hillard term, which\nis responsible for the interface dynamics of the field; the second just represents the proliferation of endothelial\ncells, which is driven by the angiogenic factor $af$. This dependence, however, is not linear: the proliferation\nrate $alpha_p(af)$ grows linearly with af only up to a certain value of $af$, limiting the growth of\nendothelial cells:\n\n\\begin{align}\\alpha_p(af) = \\alpha_p \\cdot af_p & \\quad \\textrm{if} \\quad af>af_p \\\\\n                = \\alpha_p \\cdot af  & \\quad \\textrm{if} \\quad 0<af \\le af_p \\\\\n                = 0 & \\quad \\textrm{if} \\quad af \\le 0\\end{align}\n\nAlso notice that the last PDE is of total degree 4, which makes the equation not solvable using the finite element\nmethod (FEM) with standard first-degree elements. For this reason, as we will show below, in this implementation\nthe equation is actually splitted into two equations of degree 2, introducing an auxilliary variable $\\mu$:\n\n\\begin{align}\\frac{\\partial c}{\\partial t} - \\nabla \\cdot M \\nabla\\mu  - \\alpha_p(af)c\\Theta(c) &= 0 \\quad\n   \\textrm{in} \\quad \\Omega\n\n   \\mu - [-c + c^3 - \\epsilon \\nabla^2 c] &= 0 \\quad \\textrm{in} \\quad \\Omega.\\end{align}\n\n### Computational \"agent-based\" model\nIn this implementation only two discrete cell populations are considered: the source cells and the tip cells.\n\nThe source cells are the cells expressing the angiogenic factor. They represent hypoxic cells starving for nutrients\nand thus inducing the angiogenesis to survive. In practice, these are implemented as simple circles, relatively far\nfrom the original vessel, where the angiogenic factor concentration is constantly equal to $af_s$ (which is 1\nin the present implementation). Moreover, to simulate the dependency of the hypoxic signalling on the local oxygen\nconcentration, the source cells stop expressing the angiogenic factor when the capillaries are sufficiently near.\n\nThe tip cells have a more complex behaviour, since at each time step of the simulation they can activate,\ndeactivate, and move in the spatial domain. The activation of a tip cell can occur only inside an existent capillary,\nand it happens only if $af$ and the norm of its gradient $|\\nabla af|$, are above the thresholds\n$af_c$ and $G_m$, respectively. Moreover, only points distant more than 4 times the radius of another\ntip cell can become a new tip cell. This limit was introduced to consider the self-inhibition in the tip cells\nactivation caused by the Notch pathway. In case more than one point respect all these conditions at the same time\nstep, one of them is selected randomly and only that point will be used to create a new tip cell. Thus, at each time\nstep, no more than one new tip cell can activate.\n\nOnce a tip cell is active, it moves inside the domain following the gradient of the angiogenic factor. The velocity\nvector is indeed computed as follows:\n\n\\begin{align}v & = \\chi \\nabla af & \\quad \\textrm{if} \\quad |\\nabla af|<G_M \\\\\n    \\; & = \\chi \\frac{\\nabla af}{|\\nabla af|}G_M & \\quad \\textrm{if} \\quad |\\nabla af| \\ge G_M\\end{align}\n\nNotice that the velocity cannot be higher in norm than $\\chi G_M$. Once a tip cell moved, the capillaries\nphase field $c$ is updated, adding a circle in the position of the tip cell with a constant value:\n\n\\begin{align}c_c = \\frac{\\alpha_p(af)\\pi R_c}{2 \\|v\\|}\\end{align}\n\nWhere $R_c$ is the radius of the tip cell.\nNotice that this is one of the key elements of the model, because it merges the continuous dynamics of the field\n$c$ with the discrete dynamics of the tip cells.\n\nFinally, according to the original model, the tip cells deactivate when :math`af` or the norm of its gradient drop\nbelow the above-mentioned thresholds values. In the Mocafe implementation, however, we added a small change first\nintroduced by Moreira-Soares et al. (2018) :cite:`MoreiraSoares2018`, and the tip cells deactivate also due to\nNotch-Signalling inhibition if they are close to each other.\n\n"
   ]
  },
  {
   "cell_type": "markdown",
   "metadata": {},
   "source": [
    "## Implementation\n\n### Setup\nWith Mocafe, the implementation of the model is not very different from any other FEniCS script. Let's start\nimporting everything we need:\n\n"
   ]
  },
  {
   "cell_type": "code",
   "execution_count": null,
   "metadata": {
    "collapsed": false
   },
   "outputs": [],
   "source": [
    "import sys\nimport fenics\nimport mshr\nfrom tqdm import tqdm\nfrom pathlib import Path\nimport mocafe.fenut.fenut as fu\nimport mocafe.fenut.mansimdata as mansimd\nfrom mocafe.angie import af_sourcing, tipcells\nfrom mocafe.angie.forms import angiogenesis_form, angiogenic_factor_form\nimport mocafe.fenut.parameters as mpar"
   ]
  },
  {
   "cell_type": "markdown",
   "metadata": {},
   "source": [
    "Then, as seen in previous examples, we initialize the MPI _comm, the process root, the log level and the data folder\n\n"
   ]
  },
  {
   "cell_type": "code",
   "execution_count": null,
   "metadata": {
    "collapsed": false
   },
   "outputs": [],
   "source": [
    "comm = fenics.MPI.comm_world\nrank = comm.Get_rank()\n# only process 0 logs\nfenics.parameters[\"std_out_all_processes\"] = False\n# set log level ERROR\nfenics.set_log_level(fenics.LogLevel.ERROR)\n# define data folder\nfile_folder = Path(__file__).parent.resolve()\ndata_folder = mansimd.setup_data_folder(folder_path=f\"{file_folder/Path('demo_out')}/angiogenesis_2d\",\n                                        auto_enumerate=None)"
   ]
  },
  {
   "cell_type": "markdown",
   "metadata": {},
   "source": [
    "Then we initialize the xdmf files for the capillaries and the angiogenic factor. Notice that we also initialize\na file for the tip cells, since is often useful to visualize how tip cells behave during the simulation.\nHowever, this is just for visualization purposes and it is not necessary for the model because, as we already\nmentioned above, the tip cells dynamics is merged to the capillaries dynamics thorugh the update of the field\n$c$.\n\n"
   ]
  },
  {
   "cell_type": "code",
   "execution_count": null,
   "metadata": {
    "collapsed": false
   },
   "outputs": [],
   "source": [
    "file_names = [\"c\", \"af\", \"tipcells\"]\nfile_c, file_af, tipcells_xdmf = fu.setup_xdmf_files(file_names, data_folder)"
   ]
  },
  {
   "cell_type": "markdown",
   "metadata": {},
   "source": [
    "Finally, we need the parameters of the model. This time we exploit one of the functions of Mocafe to retrieve\nthem from an ods sheet:\n\n"
   ]
  },
  {
   "cell_type": "code",
   "execution_count": null,
   "metadata": {
    "collapsed": false
   },
   "outputs": [],
   "source": [
    "file_folder = Path(__file__).parent.resolve()\nparameters_file = file_folder/Path(\"demo_in/angiogenesis_2d/parameters.ods\")\nparameters = mpar.from_ods_sheet(parameters_file, \"SimParams\")"
   ]
  },
  {
   "cell_type": "markdown",
   "metadata": {},
   "source": [
    "Notice that it is often useful to keep the parameters separated from the script and then import them as shown above.\nThis makes easier to save additional information together with the parameters (such as the unit of measure, the\nreference for the value, etc.); moreover, it reduces the risk of making mistakes in the revisions of the script.\n\n"
   ]
  },
  {
   "cell_type": "markdown",
   "metadata": {},
   "source": [
    "### Mesh definition\nAgain, to simulate our system we need to define the space where the simulation takes place and the function space\nto approximate our solution.\n\nThe mesh is a square of side Lx = Ly = 375 $\\mu m$, divided in nx = ny = 300 points for each side.\nThese values are stored inside the parameters ods file, and in the following we retrieve them and use them to\ninitialize a FEniCS ``RectangleMesh``:\n\n"
   ]
  },
  {
   "cell_type": "code",
   "execution_count": null,
   "metadata": {
    "collapsed": false
   },
   "outputs": [],
   "source": [
    "Lx = parameters.get_value(\"Lx\")\nLy = parameters.get_value(\"Ly\")\nnx = int(parameters.get_value(\"nx\"))\nny = int(parameters.get_value(\"ny\"))\nmesh = fenics.RectangleMesh(fenics.Point(0., 0.),\n                            fenics.Point(Lx, Ly),\n                            nx,\n                            ny)"
   ]
  },
  {
   "cell_type": "markdown",
   "metadata": {},
   "source": [
    "### Spatial discretization\nThen, we initialize the function space as follows:\n\n"
   ]
  },
  {
   "cell_type": "code",
   "execution_count": null,
   "metadata": {
    "collapsed": false
   },
   "outputs": [],
   "source": [
    "# define function space for c and af\nfunction_space = fu.get_mixed_function_space(mesh, 3, \"CG\", 1)\n# define function space for grad_T\ngrad_af_function_space = fenics.VectorFunctionSpace(mesh, \"CG\", 1)"
   ]
  },
  {
   "cell_type": "markdown",
   "metadata": {},
   "source": [
    "Notice that the function space for c and af is actually composed of 3 subspaces, since we also need to count the\nabove-mentioned auxiliary variable $\\mu$, that we will introduce soon. Also, notice that, since the gradient\nof $af$ is a vector, we need a different function space to handle it, called ``VectorFunctionSpace``.\n\n"
   ]
  },
  {
   "cell_type": "markdown",
   "metadata": {},
   "source": [
    "### Initial & boundary conditions\nSince the model is a system of PDEs, we need both initial and boundary conditions to find a unique solution.\n\nIn this implementation we will consider natural Neumann boundary conditions for both $c$ and\n$af$, which means that the derivative in space of the two fields is zero along the entire boundary.\nThis is an easy pick for FEniCS, since it will automatically apply this condition for us without requiring any\ncommand from the user.\n\nThe initial condition for $c$, according to the simulations reported in the original paper, is a single vessel\nin the left part of the domain. The initial vessel width is 37,5 $\\mu m$ and its value is stored in the\nparameters ``.ods`` file, so we retrieve it as follows:\n\n"
   ]
  },
  {
   "cell_type": "code",
   "execution_count": null,
   "metadata": {
    "collapsed": false
   },
   "outputs": [],
   "source": [
    "initial_vessel_width = parameters.get_value(\"initial_vessel_width\")"
   ]
  },
  {
   "cell_type": "markdown",
   "metadata": {},
   "source": [
    "Thus, the initial condition for ``c`` is simply a function which is 1 in the left part of the domain, for the x\ncoordinate included in [0, 37.5], and -1 otherwise. We can simply define such a function using the FEniCS interface\nfor expressions as follows:\n\n"
   ]
  },
  {
   "cell_type": "code",
   "execution_count": null,
   "metadata": {
    "collapsed": false
   },
   "outputs": [],
   "source": [
    "c_0_exp = fenics.Expression(\"(x[0] < i_v_w) ? 1 : -1\",\n                            degree=2,\n                            i_v_w=initial_vessel_width)\nc_0 = fenics.interpolate(c_0_exp, function_space.sub(0).collapse())"
   ]
  },
  {
   "cell_type": "markdown",
   "metadata": {},
   "source": [
    "Together with the initial condition for c, we need to define an initial condition for mu. However, this can be\nsimply 0 across all the domain and can be easily defined as follows:\n\n"
   ]
  },
  {
   "cell_type": "code",
   "execution_count": null,
   "metadata": {
    "collapsed": false
   },
   "outputs": [],
   "source": [
    "mu_0 = fenics.interpolate(fenics.Constant(0.), function_space.sub(0).collapse())"
   ]
  },
  {
   "cell_type": "markdown",
   "metadata": {},
   "source": [
    "Finally, we need to define an initial condition of the angiogenic factor $af$. According to the original paper,\ninitially $af$ is 0 everywhere, except for the points inside the source cells where the value is\n$af_s$. Thus, we need to define first the source cells if we want to set up the initial condition\nfor the angiogenic factor.\n\nIn the original paper, the source cells where placed randomly in the right part of the domain, relatively far\nfrom the initial vessel. Creating this set up in Mocafe is relatively easy. We start by defining the number\nof source cells we want, which we stored in the parameters file:\n\n"
   ]
  },
  {
   "cell_type": "code",
   "execution_count": null,
   "metadata": {
    "collapsed": false
   },
   "outputs": [],
   "source": [
    "n_sources = int(parameters.get_value(\"n_sources\"))"
   ]
  },
  {
   "cell_type": "markdown",
   "metadata": {},
   "source": [
    "Then, we define the part of the domain where we want the source cells to be placed; in this case, it is a rectangle\nincluding all the mesh except the initial vessel and a part of width $d$:\n\n"
   ]
  },
  {
   "cell_type": "code",
   "execution_count": null,
   "metadata": {
    "collapsed": false
   },
   "outputs": [],
   "source": [
    "random_sources_domain = mshr.Rectangle(fenics.Point(initial_vessel_width + parameters.get_value(\"d\"), 0),\n                                       fenics.Point(Lx, Ly))"
   ]
  },
  {
   "cell_type": "markdown",
   "metadata": {},
   "source": [
    "Finally, we initialize a so called ``RandomSourceMap``, which will create the source cells for us:\n\n"
   ]
  },
  {
   "cell_type": "code",
   "execution_count": null,
   "metadata": {
    "collapsed": false
   },
   "outputs": [],
   "source": [
    "sources_map = af_sourcing.RandomSourceMap(mesh,\n                                          n_sources,\n                                          parameters,\n                                          where=random_sources_domain)"
   ]
  },
  {
   "cell_type": "markdown",
   "metadata": {},
   "source": [
    "A ``SourceMap`` is a Mocafe object which contains the position of all the source cells at a given time throughout\nthe entire simulation. As you can see, you just need to input the mesh, the parameters, the number of sources\nand where you want the sources to be placed. In this implementation, we defined the part of the domain where we\nneeded the source cell as ``mshr.Rectangle``, but the ``where`` argument can take as input also a function which\nreturn a boolean for each point of the domain (True if the point can host a source cell, False otherwise).\nFor instance we could have initialized the same source map as above simply doing:\n\n.. code-block:: default\n\n  sources_map = af_sourcing.RandomSourceMap(mesh,\n                                            n_sources,\n                                            parameters,\n                                            where=lambda x: x[0] > initial_vessel_width + parameters.get_value(\"d\"))\n\nHowever, the source map is not sufficient to define the initial condition we need. To do so, we need an additional\nMocafe object, a ``SourcesManager``:\n\n"
   ]
  },
  {
   "cell_type": "code",
   "execution_count": null,
   "metadata": {
    "collapsed": false
   },
   "outputs": [],
   "source": [
    "sources_manager = af_sourcing.SourcesManager(sources_map, mesh, parameters)"
   ]
  },
  {
   "cell_type": "markdown",
   "metadata": {},
   "source": [
    "As the name suggests, a ``SourcesManager`` is an object responsible for the actual management of the sources in the\ngiven source map. One of the function it provides is exactly what we need, that is to apply the sources to a given\nFEniCS function. Thus, to define the initial condition we need, is sufficient to define a function which is zero\neverywhere:\n\n"
   ]
  },
  {
   "cell_type": "code",
   "execution_count": null,
   "metadata": {
    "collapsed": false
   },
   "outputs": [],
   "source": [
    "af_0 = fenics.interpolate(fenics.Constant(0.), function_space.sub(0).collapse())"
   ]
  },
  {
   "cell_type": "markdown",
   "metadata": {},
   "source": [
    "And to call the method ``apply_sources`` on it, which will take care of modifying the value of the function in\nthe points inside the source cells.\n\n"
   ]
  },
  {
   "cell_type": "code",
   "execution_count": null,
   "metadata": {
    "collapsed": false
   },
   "outputs": [],
   "source": [
    "sources_manager.apply_sources(af_0)"
   ]
  },
  {
   "cell_type": "markdown",
   "metadata": {},
   "source": [
    "Finally, we can save the initial conditions to the xdmf files defined above:\n\n"
   ]
  },
  {
   "cell_type": "code",
   "execution_count": null,
   "metadata": {
    "collapsed": false
   },
   "outputs": [],
   "source": [
    "file_af.write(af_0, 0)\nfile_c.write(c_0, 0)"
   ]
  },
  {
   "cell_type": "markdown",
   "metadata": {},
   "source": [
    "Visualizing the field that we just defined with `Paraview <https://www.paraview.org/>`_, what we get is exactly what\nwe expect: an initial vessel on the left side of the domain and a set of randomly distributed source cells:\n\n<img src=\"file://./images/angiogenesis_2d/angiogenesis_2d_initial_condition.png\" width=\"600\">\n\n\n"
   ]
  },
  {
   "cell_type": "markdown",
   "metadata": {},
   "source": [
    "### Weak form definition\nAfter having defined the initial conditions for the system, we continue with the definition of the system\nitself. As usual, we define the test functions necessary for computing the solution with the finite element method:\n\n"
   ]
  },
  {
   "cell_type": "code",
   "execution_count": null,
   "metadata": {
    "collapsed": false
   },
   "outputs": [],
   "source": [
    "v1, v2, v3 = fenics.TestFunctions(function_space)"
   ]
  },
  {
   "cell_type": "markdown",
   "metadata": {},
   "source": [
    "Then, we define the three functions involved in the PDE system: $c$, $\\mu$, and $af$:\n\n"
   ]
  },
  {
   "cell_type": "code",
   "execution_count": null,
   "metadata": {
    "collapsed": false
   },
   "outputs": [],
   "source": [
    "u = fenics.Function(function_space)\naf, c, mu = fenics.split(u)"
   ]
  },
  {
   "cell_type": "markdown",
   "metadata": {},
   "source": [
    "Moreover, we define two additional functions: one for the gradient of the angiogenic factor and one for the tip cells.\nAgain, remember that the latter is defined just for visualization purposes and is not necessary for the simulation.\n\n"
   ]
  },
  {
   "cell_type": "code",
   "execution_count": null,
   "metadata": {
    "collapsed": false
   },
   "outputs": [],
   "source": [
    "grad_af = fenics.Function(grad_af_function_space)\ntipcells_field = fenics.Function(function_space.sub(0).collapse())"
   ]
  },
  {
   "cell_type": "markdown",
   "metadata": {},
   "source": [
    "Then, since we have already defined the initial condition for $af$, we can already compute its gradient and\nassign it to the variable defined above. Notice that this is quite simple in FEniCS, because it just requires to call\nthe method ``grad`` on the function and to project it in the function space:\n\n"
   ]
  },
  {
   "cell_type": "code",
   "execution_count": null,
   "metadata": {
    "collapsed": false
   },
   "outputs": [],
   "source": [
    "grad_af.assign(  # assign to grad_af\n    fenics.project(fenics.grad(af_0), grad_af_function_space)  # the projection on the fun space of grad(af_0)\n)"
   ]
  },
  {
   "cell_type": "markdown",
   "metadata": {},
   "source": [
    "Finally, we proceed to the definition of the weak from for the system. As in the case of the prostate cancer, one\ncould define the weak form using the FEniCS UFL, but for your convenience we already defined it for you and\nwe wrapped the form in two methods: one for the angiogenic factor equation:\n\n"
   ]
  },
  {
   "cell_type": "code",
   "execution_count": null,
   "metadata": {
    "collapsed": false
   },
   "outputs": [],
   "source": [
    "form_af = angiogenic_factor_form(af, af_0, c, v1, parameters)"
   ]
  },
  {
   "cell_type": "markdown",
   "metadata": {},
   "source": [
    "and one for the $c$ field equation:\n\n"
   ]
  },
  {
   "cell_type": "code",
   "execution_count": null,
   "metadata": {
    "collapsed": false
   },
   "outputs": [],
   "source": [
    "form_ang = angiogenesis_form(c, c_0, mu, mu_0, v2, v3, af, parameters)"
   ]
  },
  {
   "cell_type": "markdown",
   "metadata": {},
   "source": [
    "which can be composed together simply summing them, as follows:\n\n"
   ]
  },
  {
   "cell_type": "code",
   "execution_count": null,
   "metadata": {
    "collapsed": false
   },
   "outputs": [],
   "source": [
    "weak_form = form_af + form_ang"
   ]
  },
  {
   "cell_type": "markdown",
   "metadata": {},
   "source": [
    "### Simulation setup\nNow that everything is set up we can proceed to the actual simulation, which will be different from the one\ndefined for the prostate cancer model because it will require us to handle the source cells and the tip cells.\n\nJust as for the source cells we defined a ``SourceCellsManager``, for the tip cells we need to define a\n``TipCellsManager``, which will take care of the job of activating, deactivating and moving the tip cells.\nWe initialize it simply calling:\n\n"
   ]
  },
  {
   "cell_type": "code",
   "execution_count": null,
   "metadata": {
    "collapsed": false
   },
   "outputs": [],
   "source": [
    "tip_cell_manager = tipcells.TipCellManager(mesh,\n                                           parameters)"
   ]
  },
  {
   "cell_type": "markdown",
   "metadata": {},
   "source": [
    "And then we will use iteratively in the time simulation for our needs.\nNotice that the rules for activating, deactivating and moving the tip cells are already implemented in the object\nclass and all we need to do is passing the mesh and the simulation parameters to the constructor.\n\nThen, we can proceed similarly to any other simulation, defining the Jacobian for the weak form:\n\n"
   ]
  },
  {
   "cell_type": "code",
   "execution_count": null,
   "metadata": {
    "collapsed": false
   },
   "outputs": [],
   "source": [
    "jacobian = fenics.derivative(weak_form, u)"
   ]
  },
  {
   "cell_type": "markdown",
   "metadata": {},
   "source": [
    "And initializing the time iteration\n\n"
   ]
  },
  {
   "cell_type": "code",
   "execution_count": null,
   "metadata": {
    "collapsed": false
   },
   "outputs": [],
   "source": [
    "t = 0.\nn_steps = int(parameters.get_value(\"n_steps\"))\ntqdm_file = sys.stdout if rank == 0 else None\ntqdm_disable = (rank != 0)"
   ]
  },
  {
   "cell_type": "markdown",
   "metadata": {},
   "source": [
    "Now, we can start iterating\n\n"
   ]
  },
  {
   "cell_type": "code",
   "execution_count": null,
   "metadata": {
    "collapsed": false
   },
   "outputs": [],
   "source": [
    "for step in tqdm(range(1, n_steps + 1), ncols=100, desc=\"angiogenesis_2d\", file=tqdm_file, disable=tqdm_disable):\n    # update time\n    t += parameters.get_value(\"dt\")\n\n    # turn off near sources\n    sources_manager.remove_sources_near_vessels(c_0)\n\n    # activate tip cell\n    tip_cell_manager.activate_tip_cell(c_0, af_0, grad_af, step)\n\n    # revert tip cells\n    tip_cell_manager.revert_tip_cells(af_0, grad_af)\n\n    # move tip cells\n    tip_cell_manager.move_tip_cells(c_0, af_0, grad_af)\n\n    # get tip cells field\n    tipcells_field.assign(tip_cell_manager.get_latest_tip_cell_function())\n\n    # update fields\n    fenics.solve(weak_form == 0, u, J=jacobian)\n\n    # assign u to the initial conditions functions\n    fenics.assign([af_0, c_0, mu_0], u)\n\n    # update source field\n    sources_manager.apply_sources(af_0)\n\n    # compute grad_T\n    grad_af.assign(fenics.project(fenics.grad(af_0), grad_af_function_space))\n\n    # save data\n    file_af.write(af_0, t)\n    file_c.write(c_0, t)\n    tipcells_xdmf.write(tipcells_field, t)"
   ]
  },
  {
   "cell_type": "markdown",
   "metadata": {},
   "source": [
    "Notice that additionally to the system solution a number of operations are performed at each time stem which require\na bit of clarification. Let's see the code step by step then.\n\nThe first thing we did just after the time update is removing the sources near the vessels, calling:\n\n.. code-block:: default\n\n  sources_manager.remove_sources_near_vessels(c_0)\n\nWith this single line, we are asking the sources manager to check the field ``c_0``, which represent the vessels,\nand to remove all the source cells the center of which is closer than the distance $d$. Notice that we don't\npass the distance as argument of the method because it's already contained in the parameters file we passed to the\nobject constructor, but we could also pass it in the method through the 'd' key:\n``sources_manager.remove_sources_near_vessels(c_0, d=given_value)``\n\nThe second thing we did is to handle the tip cells using the three statements:\n\n.. code-block:: default\n\n  # activate tip cell\n  tip_cell_manager.activate_tip_cell(c_0, af_0, grad_af, step)\n\n  # revert tip cells\n  tip_cell_manager.revert_tip_cells(af_0, grad_af)\n\n  # move tip cells\n  tip_cell_manager.move_tip_cells(c_0, af_0, grad_af)\n\nWhich respectively activate, deactivate and move the tip cells according to the algorithm we briefly discussed\nin the section `Brief introduction to the mathematical model<angiogenesis_2d_brief_introduction>` and that\nis extensively explained in the original paper :cite`Travasso2011a`. Notice that, similarly to the methods before,\nall the default threshold values do not need to be passed in the methods because they are already defined in the\nparameters file. Also notice that, in case there are no active tip cells in the current time step,\nthe second and the third statement have no effect.\n\nThen, we save the current tip cells in the above-defined tip cells field for visualizing them, using the method\n``get_latest_tip_cell_function()``:\n\n.. code-block:: default\n\n  tipcells_field.assign(tip_cell_manager.get_latest_tip_cell_function())\n\nAfter having took care of all these things, we simply solve the PDE model and assign the computed values of the\nsolution to the ``c_0``, ``mu_0`` and ``af_0`` fields, in order to have them as initial condition for the next\nstep:\n\n.. code-block:: default\n\n  fenics.solve(weak_form == 0, u, J=jacobian)\n\n  # assign u to the initial conditions functions\n  fenics.assign([af_0, c_0, mu_0], u)\n\nFinally, we apply the remaining sources to the new ``af_0`` function:\n\n.. code-block:: default\n\n  # update source field\n  sources_manager.apply_sources(af_0)\n\nwe compute the new value for the gradient of ``af``:\n\n.. code-block:: default\n\n  grad_af.assign(fenics.project(fenics.grad(af_0), grad_af_function_space))\n\nwe write everything on the ``.xdmf files``:\n\n.. code-block:: default\n\n  # save data\n  file_af.write(af_0, t)\n  file_c.write(c_0, t)\n  tipcells_xdmf.write(tipcells_field, t)\n\nand we update the progress bar, in order to inform the user on the progress of the simulation.\n\n.. code-block:: default\n\n  if _rank == 0:\n    pbar.update(1)\n\n\n## Result\nWe uploaded on Youtube the result on this simulation. You can check it out below or at\n`this link <https://youtu.be/xTOa6dTCWgk>`_\n\n..  youtube:: xTOa6dTCWgk\n\n## Visualize the result with ParaView\nThe result of the simulation is stored in the ``.xdmf`` file generated, which are easy to load and visualize in\nexpernal softwares as ParaView. If you don't now how to do it, you can check out the tutorial below or at\n`this Youtube link <https://youtu.be/TiqoMD-eGM4>`_.\n\n..  youtube:: TiqoMD-eGM4\n\n# Full code\n\n.. code-block:: default\n\n  import fenics\n  import mshr\n  from tqdm import tqdm\n  from pathlib import Path\n  import mocafe.fenut.fenut as fu\n  import mocafe.fenut.mansimdata as mansimd\n  from mocafe.angie import af_sourcing, tipcells\n  from mocafe.angie.forms import angiogenesis_form, angiogenic_factor_form\n  import mocafe.fenut.parameters as mpar\n\n  # MPI\n  _comm = fenics.MPI.comm_world\n  _rank = _comm.Get_rank()\n  # only process 0 logs\n  fenics.parameters[\"std_out_all_processes\"] = False\n  # set log level ERROR\n  fenics.set_log_level(fenics.LogLevel.ERROR)\n  # define data folder\n  file_folder = Path(__file__).parent.resolve()\n  data_folder = mansimd.setup_data_folder(folder_path=f\"{file_folder / Path('demo_out')}/angiogenesis_2d\",\n                                          auto_enumerate=None)\n  file_names = [\"c\", \"af\", \"tipcells\"]\n  file_c, file_af, tipcells_xdmf = fu.setup_xdmf_files(file_names, data_folder)\n\n  file_folder = Path(__file__).parent.resolve()\n  parameters_file = file_folder / Path(\"demo_in/angiogenesis_2d/parameters.ods\")\n  parameters = mpar.from_ods_sheet(parameters_file, \"SimParams\")\n\n  # Mesh definition\n  Lx = parameters.get_value(\"Lx\")\n  Ly = parameters.get_value(\"Ly\")\n  nx = int(parameters.get_value(\"nx\"))\n  ny = int(parameters.get_value(\"ny\"))\n  mesh = fenics.RectangleMesh(fenics.Point(0., 0.),\n                              fenics.Point(Lx, Ly),\n                              nx,\n                              ny)\n\n  # Spatial discretization\n  # define function space for c and af\n  function_space = fu.get_mixed_function_space(mesh, 3, \"CG\", 1)\n  # define function space for grad_T\n  grad_af_function_space = fenics.VectorFunctionSpace(mesh, \"CG\", 1)\n\n  # Initial conditions\n  initial_vessel_width = parameters.get_value(\"initial_vessel_width\")\n  c_0_exp = fenics.Expression(\"(x[0] < i_v_w) ? 1 : -1\",\n                              degree=2,\n                              i_v_w=initial_vessel_width)\n  c_0 = fenics.interpolate(c_0_exp, function_space.sub(0).collapse())\n\n  mu_0 = fenics.interpolate(fenics.Constant(0.), function_space.sub(0).collapse())\n\n  n_sources = int(parameters.get_value(\"n_sources\"))\n  random_sources_domain = mshr.Rectangle(fenics.Point(initial_vessel_width + parameters.get_value(\"d\"), 0),\n                                         fenics.Point(Lx, Ly))\n  sources_map = af_sourcing.RandomSourceMap(mesh,\n                                            n_sources,\n                                            parameters,\n                                            where=random_sources_domain)\n\n  sources_manager = af_sourcing.SourcesManager(sources_map, mesh, parameters)\n  af_0 = fenics.interpolate(fenics.Constant(0.), function_space.sub(0).collapse())\n  sources_manager.apply_sources(af_0)\n\n  file_af.write(af_0, 0)\n  file_c.write(c_0, 0)\n\n  # Weak form defintion\n  v1, v2, v3 = fenics.TestFunctions(function_space)\n\n  u = fenics.Function(function_space)\n  af, c, mu = fenics.split(u)\n\n  grad_af = fenics.Function(grad_af_function_space)\n  tipcells_field = fenics.Function(function_space.sub(0).collapse())\n\n  grad_af.assign(  # assign to grad_af\n      fenics.project(fenics.grad(af_0), grad_af_function_space)  # the projection on the fun space of grad(af_0)\n  )\n\n  form_af = angiogenic_factor_form(af, af_0, c, v1, parameters)\n\n  form_ang = angiogenesis_form(c, c_0, mu, mu_0, v2, v3, af, parameters)\n\n  weak_form = form_af + form_ang\n\n  # Solution\n  tip_cell_manager = tipcells.TipCellManager(mesh,\n                                             parameters)\n\n  jacobian = fenics.derivative(weak_form, u)\n\n  t = 0.\n  n_steps = int(parameters.get_value(\"n_steps\"))\n  tqdm_file = sys.stdout if rank == 0 else None\n  tqdm_disable = (rank != 0)\n\n  # start iterating\n  for step in tqdm(range(1, n_steps + 1), ncols=100, desc=\"angiogenesis_2d\", file=tqdm_file, disable=tqdm_disable):\n      # update time\n      t += parameters.get_value(\"dt\")\n\n      # turn off near sources\n      sources_manager.remove_sources_near_vessels(c_0)\n\n      # activate tip cell\n      tip_cell_manager.activate_tip_cell(c_0, af_0, grad_af, step)\n\n      # revert tip cells\n      tip_cell_manager.revert_tip_cells(af_0, grad_af)\n\n      # move tip cells\n      tip_cell_manager.move_tip_cells(c_0, af_0, grad_af)\n\n      # get tip cells field\n      tipcells_field.assign(tip_cell_manager.get_latest_tip_cell_function())\n\n      # update fields\n      fenics.solve(weak_form == 0, u, J=jacobian)\n\n      # assign u to the initial conditions functions\n      fenics.assign([af_0, c_0, mu_0], u)\n\n      # update source field\n      sources_manager.apply_sources(af_0)\n\n      # compute grad_T\n      grad_af.assign(fenics.project(fenics.grad(af_0), grad_af_function_space))\n\n      # save data\n      file_af.write(af_0, t)\n      file_c.write(c_0, t)\n      tipcells_xdmf.write(tipcells_field, t)\n\n"
   ]
  }
 ],
 "metadata": {
  "kernelspec": {
   "display_name": "Python 3",
   "language": "python",
   "name": "python3"
  },
  "language_info": {
   "codemirror_mode": {
    "name": "ipython",
    "version": 3
   },
   "file_extension": ".py",
   "mimetype": "text/x-python",
   "name": "python",
   "nbconvert_exporter": "python",
   "pygments_lexer": "ipython3",
   "version": "3.6.9"
  }
 },
 "nbformat": 4,
 "nbformat_minor": 0
}
