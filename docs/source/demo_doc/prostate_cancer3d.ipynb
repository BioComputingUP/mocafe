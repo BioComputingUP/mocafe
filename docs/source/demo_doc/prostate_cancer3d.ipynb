{
  "cells": [
    {
      "cell_type": "code",
      "execution_count": null,
      "metadata": {
        "collapsed": false
      },
      "outputs": [],
      "source": [
        "%matplotlib inline"
      ]
    },
    {
      "cell_type": "markdown",
      "metadata": {},
      "source": [
        "\n# Prostate cancer 3D\n\nIn this short demo we will show you how to simulate a phase field model described by G. Lorenzo and collaborators\nin 2016 :cite:`Lorenzo2016` using FEniCS and mocafe in 3D. You'll notice that the script is just the same of the 2D\ndemo: you just need to change the spatial domain!\n\n## How to run this example on mocafe\nMake sure you have FEniCS and mocafe and download the source script of this page (see above for the link).\nThen, simply run it using python:\n\n    python3 prostate_cancer3d.py\n\nHowever, it is recommended to exploit parallelization to save simulation time:\n\n    mpirun -n 4 python3 prostate_cancer3d.py\n\nNotice that the number following the ``-n`` option is the number of MPI processes you using for parallelizing the\nsimulation. You can change it accordingly with your CPU.\n\n## Visualize the results of this simulation\nYou need to have `Paraview <https://www.paraview.org/>`_ to visualize the results. Once you have installed it,\nyou can easly import the ``.xdmf`` files generated during the simulation and visualize the result.\n\n## Note on 3D simulations\nThe computational effort required to solve a system in 3D is of orders of magnitude higher than to solve the same\nsystem in 2D. Thus, a normal laptop might be not able to compute the solution in reasonable time. Consider using\na powerful desktop computer or an HPC to simulate the system.\n\n"
      ]
    },
    {
      "cell_type": "markdown",
      "metadata": {},
      "source": [
        "## Implementation\n\nOne of the great things of differential equations is that they are not really constrained to a specific space\ndimension. With appropriate initial and boundary conditions, you can find the solution of a differential equation\nin any possible space. This is not always true for the software implementations of such differential equations;\nhowever, using FEniCS the script is just slightly different from the one we've presented in the 2D case.\n\n"
      ]
    },
    {
      "cell_type": "code",
      "execution_count": null,
      "metadata": {
        "collapsed": false
      },
      "outputs": [],
      "source": [
        "# Setup\n# ^^^^^\n# The setup is just the same as before; we can even use the same parameters. Of course, the data folder changed, in\n# order to store the 2D and 3D simulation result in different locations.\nimport numpy as np\nimport fenics\nimport petsc4py\nfrom tqdm import tqdm\nfrom pathlib import Path\nfrom mocafe.fenut.solvers import SNESProblem\nfrom mocafe.fenut.fenut import get_mixed_function_space, setup_xdmf_files\nfrom mocafe.fenut.mansimdata import setup_data_folder\nfrom mocafe.expressions import EllipsoidField\nfrom mocafe.fenut.parameters import from_dict\nimport mocafe.litforms.prostate_cancer as pc_model\n\ncomm = fenics.MPI.comm_world\nrank = comm.Get_rank()\n\nfile_folder = Path(__file__).parent.resolve()\ndata_folder = setup_data_folder(folder_path=f\"{file_folder/Path('demo_out')}/prostate_cancer_3d\",\n                                auto_enumerate=False)\n\nphi_xdmf, sigma_xdmf = setup_xdmf_files([\"phi\", \"sigma\"], data_folder)\n\nparameters = from_dict({\n    \"phi0_in\": 1.,  # adimentional\n    \"phi0_out\": 0.,  # adimdimentional\n    \"sigma0_in\": 0.2,  # adimentional\n    \"sigma0_out\": 1.,  # adimentional\n    \"dt\": 0.001,  # years\n    \"lambda\": 1.6E5,  # (um^2) / years\n    \"tau\": 0.01,  # years\n    \"chempot_constant\": 16,  # adimensional\n    \"chi\": 600.0,  # Liters / (gram * years)\n    \"A\": 600.0,  # 1 / years\n    \"epsilon\": 5.0E6,  # (um^2) / years\n    \"delta\": 1003.75,  # grams / (Liters * years)\n    \"gamma\": 1000.0,  # grams / (Liters * years)\n    \"s_average\": 961.2,  # grams / (Liters * years)\n    \"s_max\": 73.,\n    \"s_min\": -73.\n})"
      ]
    },
    {
      "cell_type": "markdown",
      "metadata": {},
      "source": [
        "### Definition of the spatial domain and the function space\nThis is the one of the only changes we need to do: we need to define a 3D domain. However, we can do that with ease\nusing a ``BoxMesh`` with a side of 2000 $\\mu m$:\n\n"
      ]
    },
    {
      "cell_type": "code",
      "execution_count": null,
      "metadata": {
        "collapsed": false
      },
      "outputs": [],
      "source": [
        "nx = 130\nnz = ny = nx\nx_max = 1000  # um\nx_min = -1000  # um\nz_max = y_max = x_max\nz_min = y_min = x_min\n\nmesh = fenics.BoxMesh(fenics.Point(x_min, y_min, z_min),\n                      fenics.Point(x_max, y_max, z_max),\n                      nx,\n                      ny,\n                      nz)"
      ]
    },
    {
      "cell_type": "markdown",
      "metadata": {},
      "source": [
        "From the mesh, we can again define the function space in the same way we did in the 2D simulation. Indeed, the\nsystem of differential equations is the same and FEniCS will take care of defining the \"3D-version\" of the polynomial\nfunctions:\n\n"
      ]
    },
    {
      "cell_type": "code",
      "execution_count": null,
      "metadata": {
        "collapsed": false
      },
      "outputs": [],
      "source": [
        "function_space = get_mixed_function_space(mesh, 2, \"CG\", 1)"
      ]
    },
    {
      "cell_type": "markdown",
      "metadata": {},
      "source": [
        "### Initial & boundary conditions\nAgain, in this implementation we will consider natural Neumann boundary conditions for both $\\varphi$ and\n:math`\\sigma`.\n\nAs initial condition for $\\varphi$ and $\\sigma$, the most natural choice to resemble the results of\nLorenzo and collaborators :cite:`Lorenzo2016` is to define an Ellipsoid, instead of an Ellipse. This can be done\nwith ease using mocafe:\n\n"
      ]
    },
    {
      "cell_type": "code",
      "execution_count": null,
      "metadata": {
        "collapsed": false
      },
      "outputs": [],
      "source": [
        "semiax_x = 100  # um\nsemiax_y = 150  # um\nsemiax_z = 100  # um\n\nphi0 = EllipsoidField(center=np.array([0., 0., 0.]),\n                      semiax_x=semiax_x,\n                      semiax_y=semiax_y,\n                      semiax_z=semiax_z,\n                      inside_value=parameters.get_value(\"phi0_in\"),\n                      outside_value=parameters.get_value(\"phi0_out\"))\nphi0 = fenics.interpolate(phi0, function_space.sub(0).collapse())\nphi_xdmf.write(phi0, 0)\n\nsigma0 = EllipsoidField(center=np.array([0., 0., 0.]),\n                      semiax_x=semiax_x,\n                      semiax_y=semiax_y,\n                      semiax_z=semiax_z,\n                      inside_value=parameters.get_value(\"sigma0_in\"),\n                      outside_value=parameters.get_value(\"sigma0_out\"))\nsigma0 = fenics.interpolate(sigma0, function_space.sub(0).collapse())\nsigma_xdmf.write(sigma0, 0)"
      ]
    },
    {
      "cell_type": "markdown",
      "metadata": {},
      "source": [
        "### PDE System definition\nExactly how the differential equations don't change from 2D to 3D, the PDE definition remains the same. Indeed,\nyou can notice that the code it's just identical to the 2D demo:\n\n"
      ]
    },
    {
      "cell_type": "code",
      "execution_count": null,
      "metadata": {
        "collapsed": false
      },
      "outputs": [],
      "source": [
        "u = fenics.Function(function_space)\n\nphi, sigma = fenics.split(u)\n\ns_exp = fenics.Expression(\"(s_av + s_min) + ((s_max - s_min)*(random()/((double)RAND_MAX)))\",\n                          degree=2,\n                          s_av=parameters.get_value(\"s_average\"),\n                          s_min=parameters.get_value(\"s_min\"),\n                          s_max=parameters.get_value(\"s_max\"))\ns = fenics.interpolate(s_exp, function_space.sub(0).collapse())\n\nv1, v2 = fenics.TestFunctions(function_space)\nweak_form = pc_model.prostate_cancer_form(phi, phi0, sigma, v1, parameters) + \\\n    pc_model.prostate_cancer_nutrient_form(sigma, sigma0, phi, v2, s, parameters)"
      ]
    },
    {
      "cell_type": "markdown",
      "metadata": {},
      "source": [
        "### Simulation setup\nAnd, again, the simulation setup is the same as the 2D case. We just choose a lower number of step in order to reduce\nthe simulation time:\n\n"
      ]
    },
    {
      "cell_type": "code",
      "execution_count": null,
      "metadata": {
        "collapsed": false
      },
      "outputs": [],
      "source": [
        "n_steps = 500"
      ]
    },
    {
      "cell_type": "markdown",
      "metadata": {},
      "source": [
        "Then, the code remains the same. However, remember what we remarked in the 2D demo: you might need to change the\nsolver configuration in order to solve the system on your computer, and it's not guaranteed that the configuration\nyou choose for the 2D system is the best for the 3D system as well.\n\n"
      ]
    },
    {
      "cell_type": "code",
      "execution_count": null,
      "metadata": {
        "collapsed": false
      },
      "outputs": [],
      "source": [
        "# set up progress bar\nif rank == 0:\n    progress_bar = tqdm(total=n_steps, ncols=100)\nelse:\n    progress_bar = None\n\n# configure PETSc\npetsc4py.init([__name__,\n               \"-snes_type\", \"newtonls\",\n               \"-ksp_type\", \"gmres\",\n               \"-pc_type\", \"gamg\"])\nfrom petsc4py import PETSc\n\n# create snes solver\nsnes_solver = PETSc.SNES().create(comm)\nsnes_solver.setFromOptions()\n\n# iterate in time\nt = 0\nfor current_step in range(n_steps):\n    # update time\n    t += parameters.get_value(\"dt\")\n\n    # solve the problem with the solver defined by the given parameters\n    problem = SNESProblem(weak_form, u, [])\n    b = fenics.PETScVector()\n    J_mat = fenics.PETScMatrix()\n    snes_solver.setFunction(problem.F, b.vec())\n    snes_solver.setJacobian(problem.J, J_mat.mat())\n    snes_solver.solve(None, u.vector().vec())\n\n    # save new values to phi0 and sigma0, in order for them to be the initial condition for the next step\n    fenics.assign([phi0, sigma0], u)\n\n    # save current solutions to file\n    phi_xdmf.write(phi0, t)  # write the value of phi at time t\n    sigma_xdmf.write(sigma0, t)  # write the value of sigma at time t\n\n    # update progress bar\n    if rank == 0:\n        progress_bar.update(1)"
      ]
    }
  ],
  "metadata": {
    "kernelspec": {
      "display_name": "Python 3",
      "language": "python",
      "name": "python3"
    },
    "language_info": {
      "codemirror_mode": {
        "name": "ipython",
        "version": 3
      },
      "file_extension": ".py",
      "mimetype": "text/x-python",
      "name": "python",
      "nbconvert_exporter": "python",
      "pygments_lexer": "ipython3",
      "version": "3.6.9"
    }
  },
  "nbformat": 4,
  "nbformat_minor": 0
}