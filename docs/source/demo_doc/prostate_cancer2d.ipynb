{
  "cells": [
    {
      "cell_type": "code",
      "execution_count": null,
      "metadata": {
        "collapsed": false
      },
      "outputs": [],
      "source": [
        "%matplotlib inline"
      ]
    },
    {
      "cell_type": "markdown",
      "metadata": {},
      "source": [
        "\n# Prostate cancer phase field model\n\nIn this short demo we will show you how to simulate a phase field model described by G. Lorenzo and collaborators\nin 2016 :cite:`Lorenzo2016` using FEniCS and mocafe. The model was published on PNAS in 2016 and presents a\ncontinuous mathematical model able to reproduce the growth pattern of prostate cancer at tissue scale.\n\n## How to run this example on mocafe\nMake sure you have FEniCS and mocafe installed and download the source script of this page (see above for the link).\nThen, simply run it using python:\n\n.. code-block:: console\n\n    python3 prostate_cancer2d.py\n\nHowever, it is recommended to exploit parallelization to save simulation time:\n\n.. code-block:: console\n\n    mpirun -n 4 python3 prostate_cancer2d.py\n\nNotice that the number following the ``-n`` option is the number of MPI processes you using for parallelizing the\nsimulation. You can change it accordingly with your CPU.\n\n## Brief introduction to the mathematical model\nThe model is composed of just two partial differential equations (PDEs). The first describes the evolution of the\ncancer phase field  $\\varphi$, and reads:\n\n\\begin{align}\\frac{\\partial \\varphi}{\\partial t} = \\lambda \\nabla^2 \\varphi - \\frac{1}{\\tau}\\frac{dF(\\varphi)}{d\\varphi}\n    + \\chi \\sigma - A \\varphi\\end{align}\n\nThe second describes the variation of nutrients concentration $\\sigma$ in time:\n\n\\begin{align}\\frac{\\partial \\sigma}{\\partial t} = \\epsilon \\nabla^2\\sigma + s - \\delta\\cdot\\varphi - \\gamma\\cdot\\sigma\\end{align}\n\nA complete discussion of these two equations is above the purpose of this short demo so, if you're interested, we\nsuggest you to refer to the original paper :cite:`Lorenzo2016`. However, we just mention some of their main features.\n\nThe first equation describes a cancer development driven by both proliferation, and apoptosis. Cancer cells are\nassumed to duplicate in presence of nutrient and their proliferation is, indeed, described by the term\n$\\chi \\sigma$, which contains the nutrients concentration. Apoptosis is, instead assumed to occur at a constant\nrate and is represented in the equation by the term $-A \\varphi$.\n\nThe second equation describes the diffusion of the nutrients with the Fick's low of diffusion\n:cite:`enwiki:1058693490`. The equation assumes that the nutrient is supplied constantly in the domain with\na distribution $s$, and that the nutrient is consumed at a constant rate by the cancer cells (term\n$-\\delta\\varphi$). Additionaly, the nutrient is supposed to decay at a constant rate, described by the term\n$\\gamma \\sigma$.\n\n\n"
      ]
    },
    {
      "cell_type": "markdown",
      "metadata": {},
      "source": [
        "## Implementation\n\n### Setup\nAfter the math, let's see the code. To reproduce this model we need first to import everything we need throughout\nthe simulation. Notice that while most of the packages are provided by mocafe, we also use some other stuff.\n\n"
      ]
    },
    {
      "cell_type": "code",
      "execution_count": null,
      "metadata": {
        "collapsed": false
      },
      "outputs": [],
      "source": [
        "import numpy as np\nimport fenics\nfrom tqdm import tqdm\nfrom pathlib import Path\nimport petsc4py\nfrom mocafe.fenut.solvers import SNESProblem\nfrom mocafe.fenut.fenut import get_mixed_function_space, setup_xdmf_files\nfrom mocafe.fenut.mansimdata import setup_data_folder\nfrom mocafe.expressions import EllipseField\nfrom mocafe.fenut.parameters import from_dict\nimport mocafe.litforms.prostate_cancer as pc_model"
      ]
    },
    {
      "cell_type": "markdown",
      "metadata": {},
      "source": [
        "Then, it is useful (even though not necessary) to do a number of operations before running our simulation.\n\nFirst of all, we shut down the logging messages from FEniCS, leaving only the error messages in case something goes\n*really* wrong. If you want to see the FEniCS logging messages, you can comment this line.\n\n"
      ]
    },
    {
      "cell_type": "code",
      "execution_count": null,
      "metadata": {
        "collapsed": false
      },
      "outputs": [],
      "source": [
        "fenics.set_log_level(fenics.LogLevel.ERROR)"
      ]
    },
    {
      "cell_type": "markdown",
      "metadata": {},
      "source": [
        "Then, we define the MPI rank for each process. Generally speaking, this is necessary for running the simulation in\nparallel using ``mpirun``, even though in this simulation is not largely used, as we are going to see.\n\n"
      ]
    },
    {
      "cell_type": "code",
      "execution_count": null,
      "metadata": {
        "collapsed": false
      },
      "outputs": [],
      "source": [
        "comm = fenics.MPI.comm_world\nrank = comm.Get_rank()"
      ]
    },
    {
      "cell_type": "markdown",
      "metadata": {},
      "source": [
        "Then, we can define the files where to save our result for visualization and post-processing. The recommended format\nfor saving FEniCS simulations is using ``.xdmf`` files, which can easily be visualized in\n`Paraview <https://www.paraview.org/>`_.\n\nEven though FEniCS provides its own classes and method to define these files, in the following we use two mocafe\nmethods for defining:\n\n- first, the folder where to save the result of the simulation. In this case, the folder will be based inside\n  the current folder (``base_location``) and it's called demo_out/prostate_cancer2d;\n\n\n"
      ]
    },
    {
      "cell_type": "code",
      "execution_count": null,
      "metadata": {
        "collapsed": false
      },
      "outputs": [],
      "source": [
        "file_folder = Path(__file__).parent.resolve()\ndata_folder = setup_data_folder(folder_path=f\"{file_folder/Path('demo_out')}/prostate_cancer_2d\",\n                                auto_enumerate=False)"
      ]
    },
    {
      "cell_type": "markdown",
      "metadata": {},
      "source": [
        "- then, the two files for the cancer $\\varphi$ and for the nutrients $\\sigma$, which will be called\n  ``phi.xdmf`` and ``sigma.xdmf``.\n\n\n"
      ]
    },
    {
      "cell_type": "code",
      "execution_count": null,
      "metadata": {
        "collapsed": false
      },
      "outputs": [],
      "source": [
        "phi_xdmf, sigma_xdmf = setup_xdmf_files([\"phi\", \"sigma\"], data_folder)"
      ]
    },
    {
      "cell_type": "markdown",
      "metadata": {},
      "source": [
        "Finally, we define the parameters of the differential equation using a mocafe ``Parameter`` object, which is created\nfor this purpose.\n\nA Parameters object can be initialized in several ways. In the following, we define it from a\ndictionary where each key is the parameter name and the value is the actual value of the parameter. The values\nchosen for this simulation are in agreement with those reported by Lorenzo et al. by two papers regarding this\nmodel :cite:`Lorenzo2016` :cite:`Lorenzo2017`.\n\n"
      ]
    },
    {
      "cell_type": "code",
      "execution_count": null,
      "metadata": {
        "collapsed": false
      },
      "outputs": [],
      "source": [
        "parameters = from_dict({\n    \"phi0_in\": 1.,  # adimentional\n    \"phi0_out\": 0.,  # adimdimentional\n    \"sigma0_in\": 0.2,  # adimentional\n    \"sigma0_out\": 1.,  # adimentional\n    \"dt\": 0.001,  # years\n    \"lambda\": 1.6E5,  # (um^2) / years\n    \"tau\": 0.01,  # years\n    \"chempot_constant\": 16,  # adimensional\n    \"chi\": 600.0,  # Liters / (gram * years)\n    \"A\": 600.0,  # 1 / years\n    \"epsilon\": 5.0E6,  # (um^2) / years\n    \"delta\": 1003.75,  # grams / (Liters * years)\n    \"gamma\": 1000.0,  # grams / (Liters * years)\n    \"s_average\": 2.75 * 365,  # 961.2,  # grams / (Liters * years)\n    \"s_max\": 73.,\n    \"s_min\": -73.\n})"
      ]
    },
    {
      "cell_type": "markdown",
      "metadata": {},
      "source": [
        "### Definition of the spatial domain and the function space\nThe first step toward the simulation of our system is the definition of the space where the simulation takes\nplace. Similarly to the original paper, we are going to simulate the model on a 2D square mesh of dimension\n2000 x 2000 $\\mu m$. This is pretty simple to do using FEniCs, which provides the class ``RectangleMesh``\nto do this job.\n\nMore precisely, in the following we are going to define a mesh of the dimension described above, with ``nx``\npoints for each side.\n\n\n"
      ]
    },
    {
      "cell_type": "code",
      "execution_count": null,
      "metadata": {
        "collapsed": false
      },
      "outputs": [],
      "source": [
        "nx = 130\nny = nx\nx_max = 1000  # um\nx_min = -1000  # um\ny_max = x_max\ny_min = x_min\n\nmesh = fenics.RectangleMesh(fenics.Point(x_min, y_min),\n                            fenics.Point(x_max, y_max),\n                            nx,\n                            ny)"
      ]
    },
    {
      "cell_type": "markdown",
      "metadata": {},
      "source": [
        "From the mesh defined above, we can then define the ``FunctionSpace``. If your not familiar enough with FEniCS\nto know what a function space is, we suggest you to have a look to the first pages of The Fenics Tutorial\n:cite:`LangtangenLogg2017`, but basically the function space defines the set of the piece-wise\npolynomial function that will be used to approximate the solutions of our PDEs.\n\nSince the model we wish to simulate is composed of two coupled equations, we need to define a MixedElement function\nspace with two different elements. In this implementation, we will use for both equations the same element\ntype, \"CG\" (Continuous Galerking), of the first order, which can be created in FEniCS simply using::\n\n    cg1_element = fenics.FiniteElement(\"CG\", fenics.triangle, 1)  # define element\n    mixed_element = fenics.MixedElement([cg1_element] * 2)  # define mixed element\n    function_space = fenics.FunctionSpace(mesh, mixed_element)  # define function space for the given mesh\n\nHowever, the very same operation can be performed in just one line using the following method provided by\nmocafe:\n\n\n"
      ]
    },
    {
      "cell_type": "code",
      "execution_count": null,
      "metadata": {
        "collapsed": false
      },
      "outputs": [],
      "source": [
        "function_space = get_mixed_function_space(mesh, 2, \"CG\", 1)"
      ]
    },
    {
      "cell_type": "markdown",
      "metadata": {},
      "source": [
        "### Initial & boundary conditions\nSince the model is a system of PDEs, we need both initial and boundary conditions to find a unique solution.\n\nIn this implementation we will consider natural Neumann boundary conditions for both $\\varphi$ and\n:math`\\sigma`, which means that the derivative in space of the two fields is zero along the entire boundary.\nThis is an easy pick for FEniCS, since it will automatically apply this condition for us without requiring any\ncommand from the user.\n\nAs initial condition for $\\varphi$, according to the author :cite:`Lorenzo2017`, we will define an elliptical\ntumor with the given semiaxes:\n\n"
      ]
    },
    {
      "cell_type": "code",
      "execution_count": null,
      "metadata": {
        "collapsed": false
      },
      "outputs": [],
      "source": [
        "semiax_x = 100  # um\nsemiax_y = 150  # um"
      ]
    },
    {
      "cell_type": "markdown",
      "metadata": {},
      "source": [
        "With FEniCS we can do so by defining an expression which 'mathematically' represent our initial condition.\nIndeed, an ``Expression`` is the FEniCS way to define symbolic mathematical function and they can be defined\nusing simple C++ code as follows:\n\n.. code-block:: default\n\n   phi0_max = 1\n   phi0_min = 0\n   # cpp code that returns True if the point x is inside the ellipse, and False otherwise\n   is_in_ellipse_cpp_code = \"((pow(x[0] / semiax_x, 2)) + (pow(x[1] / semiax_y, 2)) <= 1)\"\n   # cpp code that returns 1 if the above statement is True, and 0 otherwise\n   phi0_cpp_code = is_in_ellipse_cpp_code + \" ? phi0_max : phi0_min\"\n   # FEniCS expression, built from cpp code defined above\n   phi0 = fenics.Expression(phi0_cpp_code,\n                            degree=2,\n                            semiax_x=semiax_x,\n                            semiax_y=semiax_y,\n                            phi0_max=phi0_max,\n                            phi0_min=phi0_min)\n\nHowever, if you don't feel confident in defining your own expression with the FEniCS interface, you can use\nthe one provided by mocafe:\n\n"
      ]
    },
    {
      "cell_type": "code",
      "execution_count": null,
      "metadata": {
        "collapsed": false
      },
      "outputs": [],
      "source": [
        "phi0 = EllipseField(center=np.array([0., 0.]),\n                    semiax_x=semiax_x,\n                    semiax_y=semiax_y,\n                    inside_value=parameters.get_value(\"phi0_in\"),\n                    outside_value=parameters.get_value(\"phi0_out\"))"
      ]
    },
    {
      "cell_type": "markdown",
      "metadata": {},
      "source": [
        "The FEniCS expression must then be interpolated in the function space in order to obtain a\nFEniCS Function. Again, explaining why we need to do so is something that goes beyond the purpose of this small\ndemo, but think about it as a necessary operation required to transform the 'symbolic' function provided by the\n``Expression`` into the actual set of values of our expression in our spatial domain, so we can use them to\ncalculate our solution.\n\nThe interpolation can be done simply calling the FEniCS method ``interpolate``, which takes as arguments the\nexpression to be projected and the function space where to do the projection. Notice that, since the function space\nwe defined is mixed, we must choose one of the sub-field to define the function.\n\n"
      ]
    },
    {
      "cell_type": "code",
      "execution_count": null,
      "metadata": {
        "collapsed": false
      },
      "outputs": [],
      "source": [
        "phi0 = fenics.interpolate(phi0, function_space.sub(0).collapse())"
      ]
    },
    {
      "cell_type": "markdown",
      "metadata": {},
      "source": [
        "Notice also that since the mixed function space is defined by two identical function spaces, it makes no\ndifference to pick sub(0) or sub(1).\n\nThen, we can save the initial condition of the $\\varphi$ field in the `.xdmf` file we defined at the\nbeginning, simply calling the method ``write(phi0, 0)``. The second argument, 0, just represent the fact that\nthis is the value of the field for the time 0. As we're going to see in the simulation, the file ``phi_xdmf`` can\ncollect the values of phi for each time.\n\n"
      ]
    },
    {
      "cell_type": "code",
      "execution_count": null,
      "metadata": {
        "collapsed": false
      },
      "outputs": [],
      "source": [
        "phi_xdmf.write(phi0, 0)"
      ]
    },
    {
      "cell_type": "markdown",
      "metadata": {},
      "source": [
        "Finally, after having defined the initial condition for $\\varphi$, let's define the initial for\n$\\sigma$. Following the hypothesis of original author :cite:`Lorenzo2017`, we will assume a nutrient\ndistribution that is 0.2 inside the cancer and 1. outside. So, we can define this distribution similarly to\nwhat we just did for ``phi0``:\n\n"
      ]
    },
    {
      "cell_type": "code",
      "execution_count": null,
      "metadata": {
        "collapsed": false
      },
      "outputs": [],
      "source": [
        "sigma0 = EllipseField(center=np.array([0., 0.]),\n                      semiax_x=semiax_x,\n                      semiax_y=semiax_y,\n                      inside_value=parameters.get_value(\"sigma0_in\"),\n                      outside_value=parameters.get_value(\"sigma0_out\"))\nsigma0 = fenics.interpolate(sigma0, function_space.sub(0).collapse())\nsigma_xdmf.write(sigma0, 0)"
      ]
    },
    {
      "cell_type": "markdown",
      "metadata": {},
      "source": [
        "### PDE System definition\nAfter having defined the initial conditions for the system, we continue with the definition of the system\nitself.\n\nFirst of all, we define the two variables, ``phi`` and ``sigma``, for which the system will be solved. Since the\ntwo equations are coupled (i.e. they depend on each other) the easiest way to do so is to define a 'vector'\nfunction ``u`` on the mixed function space:\n\n"
      ]
    },
    {
      "cell_type": "code",
      "execution_count": null,
      "metadata": {
        "collapsed": false
      },
      "outputs": [],
      "source": [
        "u = fenics.Function(function_space)"
      ]
    },
    {
      "cell_type": "markdown",
      "metadata": {},
      "source": [
        "And then to split the vector in its two components, which represent $\\varphi$ and $\\sigma$:\n\n"
      ]
    },
    {
      "cell_type": "code",
      "execution_count": null,
      "metadata": {
        "collapsed": false
      },
      "outputs": [],
      "source": [
        "phi, sigma = fenics.split(u)"
      ]
    },
    {
      "cell_type": "markdown",
      "metadata": {},
      "source": [
        "After having defined phi and sigma, we defined the $s$ function, which represent the distribution of\nnutrient that is supplied to the system.\n\nIn the original paper they simulated the model for both a constant distribution and for a 'capillary-like'\ndistribution based on an picture :cite:`Lorenzo2016`.\n\nIn this implementation we just chose a to simulate the model with a random distribution of the nutrient, with\nvalues included in the range $[s_{average} + s_{min}, s_{average} + s_{max}]$, where :math`s_{max} = - s_{min}`.\nThe specific values we need are specified in the parameters object we created above, so we use that to retrieve the\nvalues.\n\nThe most efficient way to do so in FEniCS is to use the ``Expression`` class and a C++ code with the\nfunction ``(random()/((double)RAND_MAX))`` to generate uniform random numbers between 0 and 1. Of course, there are\nways to do the same thing in Python using the ``random`` module, but in our experience the use of C++ code with the\nFEniCS interface reduces significantly the time required for the interpolation.\n\n"
      ]
    },
    {
      "cell_type": "code",
      "execution_count": null,
      "metadata": {
        "collapsed": false
      },
      "outputs": [],
      "source": [
        "s_exp = fenics.Expression(\"(s_av + s_min) + ((s_max - s_min)*(random()/((double)RAND_MAX)))\",\n                          degree=2,\n                          s_av=parameters.get_value(\"s_average\"),\n                          s_min=parameters.get_value(\"s_min\"),\n                          s_max=parameters.get_value(\"s_max\"))\ns = fenics.interpolate(s_exp, function_space.sub(0).collapse())"
      ]
    },
    {
      "cell_type": "markdown",
      "metadata": {},
      "source": [
        "Now, we have everything in place to define our PDE system. Since FEniCS uses the Finite Element Method (FEM) to\napproximate the solution we need to define the so called 'weak form' of our system. If you're not experienced with\nweak forms, you can just take advantage of the mocafe \"black-box\" method to get it ready to run:\n\n"
      ]
    },
    {
      "cell_type": "code",
      "execution_count": null,
      "metadata": {
        "collapsed": false
      },
      "outputs": [],
      "source": [
        "v1, v2 = fenics.TestFunctions(function_space)\nweak_form = pc_model.prostate_cancer_form(phi, phi0, sigma, v1, parameters) + \\\n    pc_model.prostate_cancer_nutrient_form(sigma, sigma0, phi, v2, s, parameters)"
      ]
    },
    {
      "cell_type": "markdown",
      "metadata": {},
      "source": [
        "However, if you know what a weak form is and how to define it for a PDEs set, you migth appreciate how easy it is\nto define them in FEniCS using the Unified Form Language (UFL). Just to give you a taste, we show you how the system\nlooks like in code:\n\n.. code-block:: default\n\n  v1, v2 = fenics.TestFunctions(function_space)\n  prostate_cancer_weak_form = (((phi - phi_prec) / parameters.get_value(\"dt\")) * v * fenics.dx) \\\n    + (parameters.get_value(\"lambda\") * fenics.dot(fenics.grad(phi), fenics.grad(v)) * fenics.dx) \\\n    + ((1 / parameters.get_value(\"tau\")) * df_dphi(phi, parameters.get_value(\"chempot_constant\")) * v * fenics.dx) \\\n    + (- parameters.get_value(\"chi\") * sigma * v * fenics.dx) \\\n    + (parameters.get_value(\"A\") * phi * v * fenics.dx)\n  nutrient_weak_form = (((sigma - sigma_old) / parameters.get_value(\"dt\")) * v * fenics.dx) \\\n    + (parameters.get_value(\"epsilon\") * fenics.dot(fenics.grad(sigma), fenics.grad(v)) * fenics.dx) \\\n    + (- s * v * fenics.dx) \\\n    + (parameters.get_value(\"delta\") * phi * v * fenics.dx) \\\n    + (parameters.get_value(\"gamma\") * sigma * v * fenics.dx)\n  weak_form = prostate_cancer_weak_form + nutrient_weak_form\n\nEven knowing nothing about FEM, you might notice how close this code is to actual mathematical language. This is not\njust eye-pleasing, but it makes it way easier to define the system and to introduce variations to study the model\nfrom different perspectives.\nFrom this code, FEniCS is able to efficiently construct all the data structures needed to get our\nsolution at each time step. If you wank to know more about this topic, you are encouraged to have a look to The\nFenics Tutorial to start :cite:`LangtangenLogg2017`.\n\n"
      ]
    },
    {
      "cell_type": "markdown",
      "metadata": {},
      "source": [
        "### Simulation setup\nNow that everything is set up, simulating this mathematical model is just a matter of solving the PDE system defined\nabove for each time step.\n\nTo do so, we start defining the total number of steps to simulate. We choose that in order to have a total\nsimulated time of one year, given the dt of the system (see its value in the ``Parameters`` object)\n\n"
      ]
    },
    {
      "cell_type": "code",
      "execution_count": null,
      "metadata": {
        "collapsed": false
      },
      "outputs": [],
      "source": [
        "n_steps = 1000"
      ]
    },
    {
      "cell_type": "markdown",
      "metadata": {},
      "source": [
        "Then, we define a progress bar with ``tqdm`` in order to monitor the iteration progress. Notice that the progress\nbar is defined only if the rank of the process is 0. This is necessary to avoid every process to print out a\ndifferent progress bar.\n\n"
      ]
    },
    {
      "cell_type": "code",
      "execution_count": null,
      "metadata": {
        "collapsed": false
      },
      "outputs": [],
      "source": [
        "if rank == 0:\n    progress_bar = tqdm(total=n_steps, ncols=100)\nelse:\n    progress_bar = None"
      ]
    },
    {
      "cell_type": "markdown",
      "metadata": {},
      "source": [
        "Then, we need to define how we want FEniCS to solve or PDE system. To do so, we first need to define the solver we\nwant to use.\nFor that, we can take advantage of the `PETSc <https://petsc.org/release/>`_\n(Portable, Extensible Toolkit for Scientific Computation) library, implemented in Python as ``petsc4py``, which\nis one of the most used suites of routines for solving partial differential equations.\nMore precisely, since our model is non-linear, we will take advantage of the PETSc SNES solver\n(which is optimized for nonlinear systems).\n\nThe standard way to create a SNES solver is to set it up from the command line, using:\n\n.. code-block:: default\n\n  petsc4py.init(sys.argv)\n\nHowever, for your convenience, we just hard coded the SNES configuration that worked better for us.\n\n"
      ]
    },
    {
      "cell_type": "code",
      "execution_count": null,
      "metadata": {
        "collapsed": false
      },
      "outputs": [],
      "source": [
        "petsc4py.init([__name__,\n               \"-snes_type\", \"newtonls\",\n               \"-ksp_type\", \"gmres\",\n               \"-pc_type\", \"gamg\"])\nfrom petsc4py import PETSc\n\n# define solver\nsnes_solver = PETSc.SNES().create(comm)\nsnes_solver.setFromOptions()"
      ]
    },
    {
      "cell_type": "markdown",
      "metadata": {},
      "source": [
        "Still, notice that the best configuration for your system might change, since it is well known that it is very hard\nto tell which solver will perform the best given the PDEs, the mesh, the CPU, the cores number and so on (see\n`this post\n<https://fenicsproject.discourse.group/t/how-to-choose-the-optimal-solver-for-a-pde-problem/7477>`_).\n\nIf error occurs, please consider using a different configuration for SNES. For a complete list, you can refer to\nthe documentation of `petsc4py <https://www.mcs.anl.gov/petsc/petsc4py-current/docs/apiref/index.html>`_. If you\nneed more information on the use of SNES in FEniCS, you can also refer to this\n`excellent discussion <https://fenicsproject.discourse.group/t/using-petsc4py-petsc-snes-directly/2368>` in the\nFEniCS forum.\n\n\n"
      ]
    },
    {
      "cell_type": "markdown",
      "metadata": {},
      "source": [
        "### Simulation\nFinally, we can iterate in time to solve the system with the given solver at each time step.\n\n"
      ]
    },
    {
      "cell_type": "code",
      "execution_count": null,
      "metadata": {
        "collapsed": false
      },
      "outputs": [],
      "source": [
        "t = 0\nfor current_step in range(n_steps):\n    # update time\n    t += parameters.get_value(\"dt\")\n\n    # define problem\n    problem = SNESProblem(weak_form, u, [])\n\n    # set up algebraic system for SNES\n    b = fenics.PETScVector()\n    J_mat = fenics.PETScMatrix()\n    snes_solver.setFunction(problem.F, b.vec())\n    snes_solver.setJacobian(problem.J, J_mat.mat())\n\n    # solve system\n    snes_solver.solve(None, u.vector().vec())\n\n    # save new values to phi0 and sigma0, in order for them to be the initial condition for the next step\n    fenics.assign([phi0, sigma0], u)\n\n    # save current solutions to file\n    phi_xdmf.write(phi0, t)  # write the value of phi at time t\n    sigma_xdmf.write(sigma0, t)  # write the value of sigma at time t\n\n    # update progress bar\n    if rank == 0:\n        progress_bar.update(1)"
      ]
    },
    {
      "cell_type": "markdown",
      "metadata": {},
      "source": [
        "Let's analyze everything step-by-step. First, we update the simulation time:\n\n.. code-block:: default\n\n  # update time\n  t += parameters.get_value(\"dt\")\n\nThen, we define the \"problem\" we want to be solved by the SNES solver:\n\n.. code-block:: default\n\n  # define problem\n  problem = SNESProblem(weak_form, u, [])\n\n  # set up algebraic system for SNES\n  b = fenics.PETScVector()\n  J_mat = fenics.PETScMatrix()\n  snes_solver.setFunction(problem.F, b.vec())\n  snes_solver.setJacobian(problem.J, J_mat.mat())\n\nThe few lines above might look a bit obscure if you're not experienced with FEM and numerical methods in general,\nbut we will do our best to clarify a bit.\n\nLike every numerical method, FEM translates a system of PDEs in an algebraic system of linear equations of which\nthe solution is an estimate of the real PDE system solution. The job of the class ``PETScProblem`` is exactly to\nconstruct the algebraic system of equations from the weak form, the function we want to find, and the boundary\nconditions. For our example:\n\n- we already defined the weak form above, so we can use it as it is;\n- the function we want to find is ``u``, which contains both ``phi`` and ``sigma``;\n- we left the list of boundary conditions empty (``[]``) because we are considering natural Neumann boundary\n  conditions, which are applied by default by the FEM method.\n\nOnce we did that, we simply need to tell SNES to solve our system, specifying the weak form (``problem.F``) and\nits jacobian matrix (``problem.J``) as a ``PETScVector`` and a ``PETScMatrix``, respectively. This is indeed what\nwe're doing with the methods ``setFunction`` and ``setJacobian``.\n\nThen, we can solve our system placing the result in the ``u`` function:\n\n.. code-block:: default\n\n  # solve system\n  snes_solver.solve(None, u.vector().vec())\n\nAssign the result at the current step as the new values of ``phi0`` and ``sigma0``, in order to be the initial\ncondition for the next iteration:\n\n.. code-block:: default\n\n  fenics.assign([phi0, sigma0], u)\n\nAnd finally, we write the result on the ``.xdmf`` files and update the progress bar:\n\n.. code-block:: default\n\n  # save current solutions to file\n  phi_xdmf.write(phi0, t)  # write the value of phi at time t\n  sigma_xdmf.write(sigma0, t)  # write the value of sigma at time t\n\n  # update progress bar\n  if rank == 0:\n      progress_bar.update(1)\n\n\n"
      ]
    }
  ],
  "metadata": {
    "kernelspec": {
      "display_name": "Python 3",
      "language": "python",
      "name": "python3"
    },
    "language_info": {
      "codemirror_mode": {
        "name": "ipython",
        "version": 3
      },
      "file_extension": ".py",
      "mimetype": "text/x-python",
      "name": "python",
      "nbconvert_exporter": "python",
      "pygments_lexer": "ipython3",
      "version": "3.6.9"
    }
  },
  "nbformat": 4,
  "nbformat_minor": 0
}