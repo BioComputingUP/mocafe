{
  "cells": [
    {
      "cell_type": "code",
      "execution_count": null,
      "metadata": {
        "collapsed": false
      },
      "outputs": [],
      "source": [
        "%matplotlib inline"
      ]
    },
    {
      "cell_type": "markdown",
      "metadata": {},
      "source": [
        "\n\n# A brief introduction to FEniCS\nThis demo is ment to give a brief introduction to the FEniCS computing platform for the Mocafe users who\nnever came across this software. For a complete understanding of this demo it is required to have a basic\nunderstanding of partial differential equations (PDEs), finite element method (FEM), and Python scripting.\n\nThis demo is deliberately very brief, given the presence online of excellent and extensive tutorials. Just to\nmention a few, you can find for free the book `The FEniCS Tutorial <https://fenicsproject.org/tutorial/>`_\n:cite:`LangtangenLogg2017`, a collection of\n`documented demos <https://fenicsproject.org/olddocs/dolfin/1.3.0/python/demo/index.html>`_, and the `tutorial\ncreated by J. S. Dokken <https://jorgensd.github.io/dolfinx-tutorial/>`_ for the development version of FEniCS,\nFEniCSx. In case you feel the need of a more gradual introduction to FEniCS, we recommend you those websites.\n\n## What is FEniCS\n`FEniCS <https://fenicsproject.org/>`_ :cite:`FENICS2015` is a popular open source computing platform for solving PDEs,\nmainly using the Finite Element Method. FEniCS provides high level Python and C++ interfaces together with access to\npowerful algebra backend, ensuring both efficiency and usability.\n\n## The basic FEniCS workflow\nEvery FEniCS script follows a general workflow to solve PDEs that is summarized in the following. See also the figure\nbelow for a brief summary\n\n0. **Initial setup**. The operations here depend on the problem you're solving but, in general, it is a good\n   practice to define some general variables at the beginning of the script. Also, this might be the good place\n   for setting up loggers, files to store data, and so on.\n1. **Mesh definition or import**. Before solving any PDE problem, you need to define the space where you want to\n   solve it. FEniCS has built-in methods to generate simple meshes, such as 2D rectangles or 3D cubes. However, it\n   is also possible (and often more interesting) to import any given mesh (e.g. a 3D model of a gear).\n2. **Definition of the spatial discretization**. Then, it is useful to define how you want your PDE to be discretized\n   in space choosing the type of Finite Element to use. This might be a critical choice for some problems.\n3. **Definition of initial and boundary conditions**.\n4. **Definition of the weak form**. One of the greatest things in FEniCS is the Unified Form language (UFL)\n   :cite:`UFL2014`, which makes the coding of the PDE weak form very close to the mathematical language.\n5. **Problem solution**. The actual solution of the PDE system. This might be an iteration in time, in case the PDE\n   system you're considering is time-dependent.\n\n<img src=\"file://./images/introduction_to_fenics/workflow.png\" width=\"600\">\n\nWe're going to see this very workflow in practice in the next section.\n\n## The diffusion (or *heat*) equation solved with FEniCS\nThe simplest time-variant PDE is the so-called *diffusion equation* (or *heat equation*) which is used both to describe\nthe diffusion of a chemical in a fluid (e.g. salt in water) and the evolution of heat distribution in a conductor.\n\nThe equation reads:\n\n\\begin{align}\\frac{\\partial u}{\\partial t} = D \\nabla^2 u & \\quad \\textrm{in} \\; \\Omega \\\\\n\n    u(t=0) = u_0 & \\quad \\textrm{in} \\; \\Omega \\\\\n\n    \\nabla u \\cdot n = 0 & \\quad \\textrm{in} \\; \\Gamma \\\\\\end{align}\n\nWhere:\n\n- the first row is the actual PDE, which is defined on the entire spatial domain $\\Omega$;\n- the second row represents the initial condition (which will be discussed in detail below);\n- and the third row represents the boundary condition (set to natural Neumann), which is of course\n  defined on the boundary $\\Gamma$.\n\nSolving this problem in FEniCS requires just a few lines of Python code. Let's see the implementation in detail.\n\n### Initial setup\nIn this simple case we just import the FEniCS package and create an ``.xdmf`` file, which will used for storing the\nsolution of our problem in time. You can open this kind of file with the software\n`Paraview <https://www.paraview.org/>`_, which is one of the recommended ways to visualize results obtained with FEniCS.\n\n"
      ]
    },
    {
      "cell_type": "code",
      "execution_count": null,
      "metadata": {
        "collapsed": false
      },
      "outputs": [],
      "source": [
        "import fenics\n\n# create file\nu_xdmf = fenics.XDMFFile(\"./demo_out/introduction_to_fenics/u.xdmf\")"
      ]
    },
    {
      "cell_type": "markdown",
      "metadata": {},
      "source": [
        "### Mesh definition\nHere we use one of the FEniCS builtin function to create a simple square mesh of side 1. Notice that you can\nspecify the number of elements for each side (in this case, 32 x 32).\n\n"
      ]
    },
    {
      "cell_type": "code",
      "execution_count": null,
      "metadata": {
        "collapsed": false
      },
      "outputs": [],
      "source": [
        "mesh = fenics.UnitSquareMesh(32, 32)"
      ]
    },
    {
      "cell_type": "markdown",
      "metadata": {},
      "source": [
        "### Spatial discretization\nThen, we can choose how to approximate the solution of our PDE in space or, in FEM-terms, which kind of finite\nelement we need for solving our problem. It is not simple to explain a few words what a finite element is; simply\nput, the kind of finite element specifies the class of piece-wise functions we want to use to approximate the solution\nof our PDE of interest.\n\nHowever, choosing the kind of finite element to use is extremely simple with the\n``FunctionSpace`` class in FEniCS. Below, with a single line of code, we generate the finite elements for our mesh,\nspecifying that we want Lagrange elements of degree 1.\n\n"
      ]
    },
    {
      "cell_type": "code",
      "execution_count": null,
      "metadata": {
        "collapsed": false
      },
      "outputs": [],
      "source": [
        "V = fenics.FunctionSpace(mesh, \"Lagrange\", 1)"
      ]
    },
    {
      "cell_type": "markdown",
      "metadata": {},
      "source": [
        "### Initial and boundary conditions\nTo clearly visualize the behaviour of the diffusion equation, we decided to have a simple circle as initial condition.\nPhysically-speaking, this is like considering an initial situation where a chemical is all concentrated in a circle\nat the center of the domain.\n\nTo define this initial condition, we can use a so-called ``Expression``, which is nothing more than a mathematical\nexpression written in C++. If you understand the basics of C, you can see that the input of the following object\nis a C string defining a mathematical function, which is 1 inside a circle centered in (``c_x``, ``c_y``), and 0\noutside.\n\n"
      ]
    },
    {
      "cell_type": "code",
      "execution_count": null,
      "metadata": {
        "collapsed": false
      },
      "outputs": [],
      "source": [
        "u_0_exp = fenics.Expression(\"(pow(x[0] - c_x, 2) + pow(x[1] - c_y, 2) <= pow(r, 2)) ? 1. : 0.\",\n                            degree=2,\n                            c_x=0.5, c_y=0.5, r=0.25)"
      ]
    },
    {
      "cell_type": "markdown",
      "metadata": {},
      "source": [
        "This ``Expression``, however, is just a \"symbolic\" representation of our initial condition. In order to translate\nit in an actual function, discretized in space according to our problem, we need to project it in our function space.\n\nFEniCS has a built in function to do so, which is called, indeed, ``project``:\n\n"
      ]
    },
    {
      "cell_type": "code",
      "execution_count": null,
      "metadata": {
        "collapsed": false
      },
      "outputs": [],
      "source": [
        "u_0 = fenics.project(u_0_exp, V)"
      ]
    },
    {
      "cell_type": "markdown",
      "metadata": {},
      "source": [
        "Regarding the boundary condition, we need no code to implement natural Neumann conditions in FEniCS because it is the\ndefault setup. For different boundary conditions, you're invited to check specific tutorials.\n\n"
      ]
    },
    {
      "cell_type": "markdown",
      "metadata": {},
      "source": [
        "Finally, it is useful to store this initial condition in the ``.xdmf`` file we defined above, simply calling the\nmethod ``write(phi0, 0)``. The second argument, 0, just represent the fact that\nthis is the value of the function at time 0. As we're going to see in the simulation, the file ``phi_xdmf`` can\ncollect the values of phi for each time.\n\n"
      ]
    },
    {
      "cell_type": "code",
      "execution_count": null,
      "metadata": {
        "collapsed": false
      },
      "outputs": [],
      "source": [
        "t = 0\nu_xdmf.write(u_0, t)"
      ]
    },
    {
      "cell_type": "markdown",
      "metadata": {},
      "source": [
        "### Weak form definition\nThe definition of the weak form of our PDE of interest is the starting point of the finite elment metod. Briefly,\nthe weak form is just a mathematical problem, derived from the original PDE, of which solution is an approximation\nof our PDE of interest in a given function space $V$.\n\nFor people experienced in weak form definition is very simple to derive the one for the diffusion equation.\nThe discretization of the PDE in time with backward Euler leads to the following semi-discrete equation:\n\n\\begin{align}\\frac{u - u_0}{dt} - D \\nabla^2 u = 0\\end{align}\n\nAnd the weak form of this problem can be written in the canonical form:\n\n\\begin{align}a(u, v) = L(v)\\end{align}\n\nWhere $a$ and $L$ are defined as:\n\n\\begin{align}a(u, v) & = \\int_{\\Omega} \\frac{u}{dt} \\cdot v \\cdot dx + \\int_{\\Omega} D \\cdot \\nabla u\n  \\cdot \\nabla v \\cdot dx \\\\\n  L(v) & = \\int_{\\Omega} \\frac{u_0}{dt} \\cdot v \\cdot dx \\\\\\end{align}\n\nIn the following, we translate this mathematical equation into scientific code leveraging one of the best feature of\nFEniCS: the Unified Form Language (UFL). Indeed, you can see yourself that the definition of a and L is very close\nto the actual mathematical formula.\n\n"
      ]
    },
    {
      "cell_type": "code",
      "execution_count": null,
      "metadata": {
        "collapsed": false
      },
      "outputs": [],
      "source": [
        "D = fenics.Constant(1.)\ndt = 0.001\nu = fenics.TrialFunction(V)\nv = fenics.TestFunction(V)\na = (u / dt) * v * fenics.dx + D * fenics.dot(fenics.grad(u), fenics.grad(v)) * fenics.dx\nL = (u_0 / dt) * v * fenics.dx\n\n# From this code, FEniCS is able to efficiently construct all the data structures needed to get our\n# solution at each time step. If you wank to know more about this topic, you are again encouraged to have a look to The\n# Fenics Tutorial to start :cite:`LangtangenLogg2017`."
      ]
    },
    {
      "cell_type": "markdown",
      "metadata": {},
      "source": [
        "### Problem solution\nThe last thing to do is to just solve our differential equation.\n\nSince the equation is time-dependent, we need to iterate in time and solve for each time step the equation using the\nfollowing ``for`` loop:\n\n"
      ]
    },
    {
      "cell_type": "code",
      "execution_count": null,
      "metadata": {
        "collapsed": false
      },
      "outputs": [],
      "source": [
        "u = fenics.Function(V)\nfor n in range(30):\n    # update time\n    t += dt\n    # compute solution at current time step\n    fenics.solve(a == L, u)\n    # assign new solution to old\n    fenics.assign(u_0, u)\n    # save solution for the current time step\n    u_xdmf.write(u_0, t)"
      ]
    },
    {
      "cell_type": "markdown",
      "metadata": {},
      "source": [
        "Notice that also here the flow is very basic:\n\n- we update time;\n- we call the FEniCS function ``solve`` to solve the equation (storing the result on the variable u);\n- we assign the result to u_0 (for the following time step);\n- and we store the solution to our ``.xdmf`` file.\n\nHowever, this basic method should be used with care: it works perfectly\nwith simple PDEs, but sometimes the \"black-box\" function ``solve`` is not the most efficient way compute our solution.\nIn those cases, it is recommended to use more advanced techniques. In other tutorials we will show how to use\ndifferent solution algorithms in FEniCS.\n\nBelow you can find an animation of the result of this script:\n\n.. only:: html\n\n   .. figure:: ./images/introduction_to_fenics/diffusion.gif\n\n## Full code\n\n.. code-block:: default\n\n  import fenics\n\n  # create file\n  u_xdmf = fenics.XDMFFile(\"./demo_out/introduction_to_fenics/u.xdmf\")\n\n  mesh = fenics.UnitSquareMesh(32, 32)\n\n  V = fenics.FunctionSpace(mesh, \"Lagrange\", 1)\n\n  u_0_exp = fenics.Expression(\"(pow(x[0] - c_x, 2) + pow(x[1] - c_y, 2) <= pow(r, 2)) ? 1. : 0.\",\n                            degree=2,\n                            c_x=0.5, c_y=0.5, r=0.25)\n  u_0 = fenics.project(u_0_exp, V)\n\n  t = 0\n  u_xdmf.write(u_0, t)\n\n  D = fenics.Constant(1.)\n  dt = 0.001\n  u = fenics.TrialFunction(V)\n  v = fenics.TestFunction(V)\n  a = (u / dt) * v * fenics.dx + D * fenics.dot(fenics.grad(u), fenics.grad(v)) * fenics.dx\n  L = (u_0 / dt) * v * fenics.dx\n\n  u = fenics.Function(V)\n  for n in range(30):\n    # update time\n    t += dt\n    # compute solution at current time step\n    fenics.solve(a == L, u)\n    # assign new solution to old\n    fenics.assign(u_0, u)\n    # save solution for the current time step\n    u_xdmf.write(u_0, t)\n\n"
      ]
    }
  ],
  "metadata": {
    "kernelspec": {
      "display_name": "Python 3",
      "language": "python",
      "name": "python3"
    },
    "language_info": {
      "codemirror_mode": {
        "name": "ipython",
        "version": 3
      },
      "file_extension": ".py",
      "mimetype": "text/x-python",
      "name": "python",
      "nbconvert_exporter": "python",
      "pygments_lexer": "ipython3",
      "version": "3.6.9"
    }
  },
  "nbformat": 4,
  "nbformat_minor": 0
}