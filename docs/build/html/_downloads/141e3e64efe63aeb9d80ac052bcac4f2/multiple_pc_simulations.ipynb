{
  "cells": [
    {
      "cell_type": "code",
      "execution_count": null,
      "metadata": {
        "collapsed": false
      },
      "outputs": [],
      "source": [
        "%matplotlib inline"
      ]
    },
    {
      "cell_type": "markdown",
      "metadata": {},
      "source": [
        "\n\n# Save simulations meta-data\nOften phase field models are tested using different parameters. Managing different parameters values, simulation\noutputs, and other meta-data might be not trivial and lead to mistakes and repeated simulations.\n\nFor this reason *mocafe* provides some tools to makes simulation management easier. To see this in action, we are going\nto simulate the Prostate Cancer models presented in `this demo<Prostate Cancer 2D Demo>` for different values\nfor the parameters.\n\n## How to run this example on mocafe\nMake sure you have FEniCS and mocafe installed and download the source script of this page (see above for the link).\nThen, simply run it using python:\n\n.. code-block:: console\n\n    python3 multiple_pc_simulations.py\n\nHowever, it is recommended to exploit parallelization to save simulation time:\n\n.. code-block:: console\n\n    mpirun -n 4 python3 multiple_pc_simulations.py\n\nNotice that the number following the ``-n`` option is the number of MPI processes you using for parallelizing the\nsimulation. You can change it accordingly with your CPU.\n\n## Visualize the results of this simulation\nYou need to have `Paraview <https://www.paraview.org/>`_ to visualize the results. Once you have installed it,\nyou can easly import the ``.xdmf`` files generated during the simulation and visualize the result.\n\n"
      ]
    },
    {
      "cell_type": "markdown",
      "metadata": {},
      "source": [
        "### Implementation\nThe simulated model is the same of the `Prostate Cancer demo demo<Prostate Cancer 2D Demo>`, so most of\nthe code is just the same for that demo. Thus, we created a convenience method that will do most of the work\nfor us, called ``run_prostate_cancer_simulation``, which contains most of what we saw in the original demo\n(see section `Full Code <Multiple PC Demo-Full Code>` for the complete implementation):\n\n.. code-block:: default\n\n   def run_prostate_cancer_simulation(loading_message, parameters, data_folder):\n      ...\n\nNotice that the methods takes just three arguments:\n\n* ``loading_message``: just a string containing a message to print nearby the progress bar\n* ``parameters``: the simulation parameters\n* ``data_folder``: the folder to store the simulation output\n\n\n"
      ]
    },
    {
      "cell_type": "markdown",
      "metadata": {},
      "source": [
        "### Managing multiple simulations\nIn the Prostate Cancer model original paper :cite:`Lorenzo2016` they simulated the model for two conditions:\n\n* setting parameters A = 300 [$y^{-1}$] and $\\chi$ = 400 [$L \\cdot g^{-1} \\cdot y^{-1}$], which\n  lead to a rounded shape tumour;\n* setting parameters A = 600 [$y^{-1}$] and $\\chi$ = 600 [$L \\cdot g^{-1} \\cdot y^{-1}$], which\n  lead to a 'fingered' shape tumour;\n\nNow that we defined the ``run_prostate_cancer_simulation`` is very easy to do the same in *mocafe*. The first\nstep is to define a set of parameters (now the values of $\\chi$ and A don't matter):\n\n.. code-block:: default\n\n   std_parameters = from_dict({\n      \"phi0_in\": 1.,  # adimentional\n      \"phi0_out\": 0.,  # adimdimentional\n      \"sigma0_in\": 0.2,  # adimentional\n      \"sigma0_out\": 1.,  # adimentional\n      \"dt\": 0.001,  # years\n      \"lambda\": 1.6E5,  # (um^2) / years\n      \"tau\": 0.01,  # years\n      \"chempot_constant\": 16,  # adimensional\n      \"chi\": 600.0,  # Liters / (gram * years)\n      \"A\": 600.0,  # 1 / years\n      \"epsilon\": 5.0E6,  # (um^2) / years\n      \"delta\": 1003.75,  # grams / (Liters * years)\n      \"gamma\": 1000.0,  # grams / (Liters * years)\n      \"s_average\": 2.75 * 365,  # 961.2,  # grams / (Liters * years)\n      \"s_max\": 73.,\n      \"s_min\": -73.\n   })\n\nThen, we define the parameters values we want to change in lists:\n\n.. code-block:: default\n\n   chi_values = [400, 600]\n   A_values = [300, 600]\n\nAnd we test the two conditions using a for loop:\n\n.. code-block:: default\n\n   for chi_value, A_value in zip(chi_values, A_values):\n      # set data folder for current simulation\n      data_folder = setup_data_folder(folder_path=f\"{file_folder / Path('demo_out')}/multiple_pc_simulations\",\n                                      auto_enumerate=True)\n\n      # set new parameters values\n      std_parameters.set_value(\"chi\", chi_value)\n      std_parameters.set_value(\"A\", A_value)\n\n      # run simulation measuring execution time\n      init_time = time.time()\n      run_prostate_cancer_simulation(f\"simulating for chi = {chi_value}, A = {A_value}\",\n                                     std_parameters,\n                                     data_folder)\n      execution_time = time.time() - init_time\n\n      # store simulation meta-data\n      save_sim_info(data_folder,\n                    parameters=std_parameters,\n                    execution_time=execution_time,\n                    sim_name=\"Simulating 2D prostate cancer model\",\n                    sim_description=\"Simulating 2D PC model changing the values of parameters A and chi\")\n\nAs you can see, inside the loop we do a number of operations:\n\n* We use ``setup_data_folder`` with the argument ``auto_enumerate`` = ``True`` to automatically create multiple\n  data folder nested inside the given folder;\n* We change the value of the parameters of interest using ``set_value``;\n* At the end of the simulation, we save some of the simulation meta-data inside the data folder, using the method\n  ``save_sim_info``. This result in the generation of a file called ``sim_info.html``, unique for each simulation.\n  For instance, this is the content of the file generated for the first simulation:\n\n<img src=\"file://demo_out/multiple_pc_simulations/0000/sim_info.png\" width=\"300\" align=\"center\">\n\nAfter the loop, the result will be stored in a tree like the following:\n\n.. code-block:: default\n\n   demo_out/multiple_pc_simulations/\n   \u251c\u2500\u2500 0000\n   \u2502   \u251c\u2500\u2500 phi.h5\n   \u2502   \u251c\u2500\u2500 phi.xdmf\n   \u2502   \u251c\u2500\u2500 sigma.h5\n   \u2502   \u251c\u2500\u2500 sigma.xdmf\n   \u2502   \u2514\u2500\u2500 sim_info.html\n   \u2514\u2500\u2500 0001\n       \u251c\u2500\u2500 phi.h5\n       \u251c\u2500\u2500 phi.xdmf\n       \u251c\u2500\u2500 sigma.h5\n       \u251c\u2500\u2500 sigma.xdmf\n       \u2514\u2500\u2500 sim_info.html\n\nAs you can see, there are two nested folders inside ``demo_out/multiple_pc_simulations``, called ``0000``\n(the first simulation) and ``0001`` (the second simulation). For each folder, the simulation output (``phi.*``\nand ``sigma.*``) is stored together with the report file ``sim_info.html``, containing the simulation meta-data.\n\n"
      ]
    },
    {
      "cell_type": "markdown",
      "metadata": {},
      "source": [
        "\n## Full code\n\n"
      ]
    },
    {
      "cell_type": "code",
      "execution_count": null,
      "metadata": {
        "collapsed": false
      },
      "outputs": [],
      "source": [
        "import numpy as np\nimport fenics\nimport time\nfrom tqdm import tqdm\nfrom pathlib import Path\nimport petsc4py\nfrom mocafe.fenut.solvers import SNESProblem\nfrom mocafe.fenut.fenut import get_mixed_function_space, setup_xdmf_files\nfrom mocafe.fenut.mansimdata import setup_data_folder, save_sim_info\nfrom mocafe.expressions import EllipseField\nfrom mocafe.fenut.parameters import from_dict\nimport mocafe.litforms.prostate_cancer as pc_model\n\n\ndef run_prostate_cancer_simulation(loading_message, parameters, data_folder):\n    phi_xdmf, sigma_xdmf = setup_xdmf_files([\"phi\", \"sigma\"], data_folder)\n\n    # Mesh definition\n    nx = 130\n    ny = nx\n    x_max = 1000  # um\n    x_min = -1000  # um\n    y_max = x_max\n    y_min = x_min\n\n    mesh = fenics.RectangleMesh(fenics.Point(x_min, y_min),\n                                fenics.Point(x_max, y_max),\n                                nx,\n                                ny)\n\n    # Spatial discretization\n    function_space = get_mixed_function_space(mesh, 2, \"CG\", 1)\n\n    # Initial conditions\n    semiax_x = 100  # um\n    semiax_y = 150  # um\n    phi0 = EllipseField(center=np.array([0., 0.]),\n                        semiax_x=semiax_x,\n                        semiax_y=semiax_y,\n                        inside_value=parameters.get_value(\"phi0_in\"),\n                        outside_value=parameters.get_value(\"phi0_out\"))\n    phi0 = fenics.interpolate(phi0, function_space.sub(0).collapse())\n    phi_xdmf.write(phi0, 0)\n\n    sigma0 = EllipseField(center=np.array([0., 0.]),\n                          semiax_x=semiax_x,\n                          semiax_y=semiax_y,\n                          inside_value=parameters.get_value(\"sigma0_in\"),\n                          outside_value=parameters.get_value(\"sigma0_out\"))\n    sigma0 = fenics.interpolate(sigma0, function_space.sub(0).collapse())\n    sigma_xdmf.write(sigma0, 0)\n\n    # Weak form definition\n    u = fenics.Function(function_space)\n    phi, sigma = fenics.split(u)\n\n    s_exp = fenics.Expression(\"(s_av + s_min) + ((s_max - s_min)*(random()/((double)RAND_MAX)))\",\n                              degree=2,\n                              s_av=parameters.get_value(\"s_average\"),\n                              s_min=parameters.get_value(\"s_min\"),\n                              s_max=parameters.get_value(\"s_max\"))\n    s = fenics.interpolate(s_exp, function_space.sub(0).collapse())\n\n    v1, v2 = fenics.TestFunctions(function_space)\n    weak_form = pc_model.prostate_cancer_form(phi, phi0, sigma, v1, parameters) + \\\n                pc_model.prostate_cancer_nutrient_form(sigma, sigma0, phi, v2, s, parameters)\n\n    # Simulation: setup\n    n_steps = 1000\n\n    if rank == 0:\n        progress_bar = tqdm(total=n_steps, ncols=100)\n        progress_bar.set_description(loading_message)\n    else:\n        progress_bar = None\n\n    petsc4py.init([__name__,\n                   \"-snes_type\", \"newtonls\",\n                   \"-ksp_type\", \"gmres\",\n                   \"-pc_type\", \"gamg\"])\n    from petsc4py import PETSc\n\n    # define solver\n    snes_solver = PETSc.SNES().create(comm)\n    snes_solver.setFromOptions()\n\n    t = 0\n    for current_step in range(n_steps):\n        # update time\n        t += parameters.get_value(\"dt\")\n\n        # define problem\n        problem = SNESProblem(weak_form, u, [])\n\n        # set up algebraic system for SNES\n        b = fenics.PETScVector()\n        J_mat = fenics.PETScMatrix()\n        snes_solver.setFunction(problem.F, b.vec())\n        snes_solver.setJacobian(problem.J, J_mat.mat())\n\n        # solve system\n        snes_solver.solve(None, u.vector().vec())\n\n        # save new values to phi0 and sigma0, in order for them to be the initial condition for the next step\n        fenics.assign([phi0, sigma0], u)\n\n        # save current solutions to file\n        phi_xdmf.write(phi0, t)  # write the value of phi at time t\n        sigma_xdmf.write(sigma0, t)  # write the value of sigma at time t\n\n        # update progress bar\n        if rank == 0:\n            progress_bar.update(1)\n\n\n# initial setup\nfenics.set_log_level(fenics.LogLevel.ERROR)\ncomm = fenics.MPI.comm_world\nrank = comm.Get_rank()\n\n# get this file folder\nfile_folder = Path(__file__).parent.resolve()\n\n# init standard parameters\nstd_parameters = from_dict({\n    \"phi0_in\": 1.,  # adimentional\n    \"phi0_out\": 0.,  # adimdimentional\n    \"sigma0_in\": 0.2,  # adimentional\n    \"sigma0_out\": 1.,  # adimentional\n    \"dt\": 0.001,  # years\n    \"lambda\": 1.6E5,  # (um^2) / years\n    \"tau\": 0.01,  # years\n    \"chempot_constant\": 16,  # adimensional\n    \"chi\": 600.0,  # Liters / (gram * years)\n    \"A\": 600.0,  # 1 / years\n    \"epsilon\": 5.0E6,  # (um^2) / years\n    \"delta\": 1003.75,  # grams / (Liters * years)\n    \"gamma\": 1000.0,  # grams / (Liters * years)\n    \"s_average\": 2.75 * 365,  # 961.2,  # grams / (Liters * years)\n    \"s_max\": 73.,\n    \"s_min\": -73.\n})\n\n# define parameters values to test\nchi_values = [400, 600]\nA_values = [300, 600]\n\n# run multiple simulations\nfor chi_value, A_value in zip(chi_values, A_values):\n    # set data folder for current simulation\n    data_folder = setup_data_folder(folder_path=f\"{file_folder / Path('demo_out')}/multiple_pc_simulations\",\n                                    auto_enumerate=True)\n\n    # set new parameters values\n    std_parameters.set_value(\"chi\", chi_value)\n    std_parameters.set_value(\"A\", A_value)\n\n    # run simulation measuring execution time\n    init_time = time.time()\n    run_prostate_cancer_simulation(f\"simulating for chi = {chi_value}, A = {A_value}\",\n                                   std_parameters,\n                                   data_folder)\n    execution_time = time.time() - init_time\n\n    # store simulation meta-data\n    save_sim_info(data_folder,\n                  parameters=std_parameters,\n                  execution_time=execution_time,\n                  sim_name=\"Simulating 2D prostate cancer model\",\n                  sim_description=\"Simulating 2D PC model changing the values of parameters A and chi\")"
      ]
    }
  ],
  "metadata": {
    "kernelspec": {
      "display_name": "Python 3",
      "language": "python",
      "name": "python3"
    },
    "language_info": {
      "codemirror_mode": {
        "name": "ipython",
        "version": 3
      },
      "file_extension": ".py",
      "mimetype": "text/x-python",
      "name": "python",
      "nbconvert_exporter": "python",
      "pygments_lexer": "ipython3",
      "version": "3.6.9"
    }
  },
  "nbformat": 4,
  "nbformat_minor": 0
}