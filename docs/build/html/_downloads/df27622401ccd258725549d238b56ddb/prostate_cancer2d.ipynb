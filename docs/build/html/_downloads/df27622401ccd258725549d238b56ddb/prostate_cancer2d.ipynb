{
  "cells": [
    {
      "cell_type": "code",
      "execution_count": null,
      "metadata": {
        "collapsed": false
      },
      "outputs": [],
      "source": [
        "%matplotlib inline"
      ]
    },
    {
      "cell_type": "markdown",
      "metadata": {},
      "source": [
        "\n# Prostate cancer phase field model\n\nIn this short demo we will show you how to simulate a phase field model described by G. Lorenzo and collaborators\nin 2016 :cite:`Lorenzo2016` using FEniCS and mocafe. The model was published on PNAS in 2016 and presents a\ncontinuous mathematical model able to reproduce the growth pattern of prostate cancer at tissue scale.\n\n## How to run this example on mocafe\nMake sure you have FEniCS and mocafe installed and download the source script of this page (see above for the link).\nThen, simply run it using python:\n\n.. code-block:: console\n\n    python3 prostate_cancer2d.py\n\nIf you are in a hurry, you can exploit parallelization to run the simulation faster:\n\n.. code-block:: console\n\n    mpirun -n 4 python3 prostate_cancer2d.py\n\nNotice that the number following the ``-n`` option is the number of MPI processes you using for parallelizing the\nsimulation. You can change it accordingly with your CPU.\n\n## Brief introduction to the mathematical model\nThe model is composed of just two partial differential equations (PDEs). The first describes the evolution of the\ncancer phase field  $\\varphi$, and reads:\n\n\\begin{align}\\frac{\\partial \\varphi}{\\partial t} = \\lambda \\nabla^2 \\varphi - \\frac{1}{\\tau}\\frac{dF(\\varphi)}{d\\varphi}\n    + \\chi \\sigma - A \\varphi\\end{align}\n\nThe second describes the variation of nutrients concentration $\\sigma$ in time:\n\n\\begin{align}\\frac{\\partial \\sigma}{\\partial t} = \\epsilon \\nabla^2\\sigma + s - \\delta\\cdot\\varphi - \\gamma\\cdot\\sigma\\end{align}\n\nA complete discussion of these two equations is above the purpose of this short demo so, if you're interested, we\nsuggest you to refer to the original paper :cite:`Lorenzo2016`. However, we just mention some of their main features.\n\nThe first equation describes a cancer development driven by both proliferation, and apoptosis. Cancer cells are\nassumed to duplicate in presence of nutrient and their proliferation is, indeed, described by the term\n$\\chi \\sigma$, which contains the nutrients concentration. Apoptosis is, instead assumed to occurr at a constant\nrate and is represented in the equation by the term $-A \\varphi$.\n\nThe second equation describes the diffusion of the nutrients with the Fick's low of diffusion\n:cite:`enwiki:1058693490`. The equation assumes that the nutrient is supplied constantly in the domain with\na distribution $s$, and that the nutrient is consumed at a constant rate by the cancer cells (term\n$-\\delta\\varphi$). Additionaly, the nutrient is supposed to decay at a constant rate, described by the term\n$\\gamma \\sigma$.\n\n\n"
      ]
    },
    {
      "cell_type": "markdown",
      "metadata": {},
      "source": [
        "## Implementation\n\n### Setup\nAfter the math, let's see the code. To reproduce this model we need first to import everything we need throughout\nthe simulation. Notice that while most of the packages are provided by mocafe, we also use some other stuff.\n\n"
      ]
    },
    {
      "cell_type": "code",
      "execution_count": null,
      "metadata": {
        "collapsed": false
      },
      "outputs": [],
      "source": [
        "import sys\nimport numpy as np\nimport fenics\nimport random\nfrom tqdm import tqdm\nfrom pathlib import Path\nfile_folder = Path(__file__).parent.resolve()\nmocafe_folder = file_folder.parent\nsys.path.append(str(mocafe_folder))  # appending mocafe path. Must be removed\nfrom mocafe.fenut.solvers import PETScProblem, PETScNewtonSolver\nfrom mocafe.fenut.fenut import get_mixed_function_space, setup_xdmf_files\nfrom mocafe.fenut.mansimdata import setup_data_folder\nfrom mocafe.expressions import EllipseField, PythonFunctionField\nfrom mocafe.fenut.parameters import from_dict\nimport mocafe.litforms.prostate_cancer as pc_model"
      ]
    },
    {
      "cell_type": "markdown",
      "metadata": {},
      "source": [
        "Then, it is useful (even though not necessary) to do a number of operations before running our simulation.\n\nFirst of all, we shut down the logging messages from FEniCS, leaving only the error messages in case something goes\n*really* wrong. If you want to check out the FEniCS messages, you can comment this line.\n\n"
      ]
    },
    {
      "cell_type": "code",
      "execution_count": null,
      "metadata": {
        "collapsed": false
      },
      "outputs": [],
      "source": [
        "fenics.set_log_level(fenics.LogLevel.ERROR)"
      ]
    },
    {
      "cell_type": "markdown",
      "metadata": {},
      "source": [
        "Then, we define the MPI rank for each process. Generally speaking, this is necessary for running the simulation in\nparallel using ``mpirun``, even though in this simulation is not largely used, as we are going to see.\n\n"
      ]
    },
    {
      "cell_type": "code",
      "execution_count": null,
      "metadata": {
        "collapsed": false
      },
      "outputs": [],
      "source": [
        "comm = fenics.MPI.comm_world\nrank = comm.Get_rank()"
      ]
    },
    {
      "cell_type": "markdown",
      "metadata": {},
      "source": [
        "Then, we can define the files where to save our result for visualization and post-processing. The suggested format\nfor saving FEniCS simulations is using ``.xdmf`` files, which can easily be visualized in\n`Paraview <https://www.paraview.org/>`_.\n\nEven though FEniCS provides its own classes and method to define these files, in the following we use two mocafe\nmethods for defining:\n\n- first, the folder where to save the result of the simulation. In this case, the folder will be based inside\n  the current folder (``base_location``) and it's called demo_out/prostate_cancer2d;\n\n\n"
      ]
    },
    {
      "cell_type": "code",
      "execution_count": null,
      "metadata": {
        "collapsed": false
      },
      "outputs": [],
      "source": [
        "data_folder = setup_data_folder(folder_path=f\"{file_folder/Path('demo_out')}/prostate_cancer_2d\",\n                                auto_enumerate=False)"
      ]
    },
    {
      "cell_type": "markdown",
      "metadata": {},
      "source": [
        "- then, the two files for the cancer $\\varphi$ and for the nutrients $\\sigma$, which will be called\n  ``phi.xdmf`` and ``sigma.xdmf``.\n\n\n"
      ]
    },
    {
      "cell_type": "code",
      "execution_count": null,
      "metadata": {
        "collapsed": false
      },
      "outputs": [],
      "source": [
        "phi_xdmf, sigma_xdmf = setup_xdmf_files([\"phi\", \"sigma\"], data_folder)"
      ]
    },
    {
      "cell_type": "markdown",
      "metadata": {},
      "source": [
        "Finally, we define the parameters of the differential equation using a mocafe ``Parameter`` object, which is created\nfor this purpose.\n\nA Parameters object can be initialized in several ways. In the following, we define it from a\ndictionary where each key is the parameter name and the value is the actual value of the parameter.\n\n"
      ]
    },
    {
      "cell_type": "code",
      "execution_count": null,
      "metadata": {
        "collapsed": false
      },
      "outputs": [],
      "source": [
        "parameters = from_dict({\n    \"phi0_in\": 1.,  # adimentional\n    \"phi0_out\": 0.,  # adimdimentional\n    \"sigma0_in\": 0.2,  # adimentional\n    \"sigma0_out\": 1.,  # adimentional\n    \"dt\": 0.01,  # years\n    \"lambda\": 1.6E5,  # (um^2) / years\n    \"tau\": 0.01,  # years\n    \"chempot_constant\": 16,  # adimensional\n    \"chi\": 600.0,  # Liters / (gram * years)\n    \"A\": 600.0,  # 1 / years\n    \"epsilon\": 5.0E6,  # (um^2) / years\n    \"delta\": 1003.75,  # grams / (Liters * years)\n    \"gamma\": 1000.0,  # grams / (Liters * years)\n    \"s_average\": 961.2,  # grams / (Liters * years)\n    \"s_max\": 73.,\n    \"s_min\": -73.\n})"
      ]
    },
    {
      "cell_type": "markdown",
      "metadata": {},
      "source": [
        "### Definition of the spatial domain and the function space\nThe first step toward the simulation of our system is the definition of the space where the simulation takes\nplace. Similarly to the original paper, we are going to simulate the model on a 2D square mesh of dimension\n2000 x 2000 $\\mu m$. This is pretty simple to do using FEniCs, which provides the class ``RectangleMesh``\nto do this job.\n\nMore precisely, in the following we are going to define a mesh of the dimension described above, with 512\npoints for each side.\n\n\n"
      ]
    },
    {
      "cell_type": "code",
      "execution_count": null,
      "metadata": {
        "collapsed": false
      },
      "outputs": [],
      "source": [
        "nx = 130\nny = nx\nx_max = 1000  # um\nx_min = -1000  # um\ny_max = x_max\ny_min = x_min\n\nmesh = fenics.RectangleMesh(fenics.Point(x_min, y_min),\n                            fenics.Point(x_max, y_max),\n                            nx,\n                            ny)"
      ]
    },
    {
      "cell_type": "markdown",
      "metadata": {},
      "source": [
        "From the mesh defined above, we can then define the ``FunctionSpace``. If your not familiar enough with FEniCS\nto know what a function space is, we suggest you to have a look to the first pages of The Fenics Tutorial\n:cite:`LangtangenLogg2017`, but basically the function space defines the set of the piece-wise\npolynomial function that will be used to approximate the solutions of our PDEs.\n\nSince the model we wish to simulate is composed of two coupled equations, we need to define a MixedElement function\nspace with two different elements. In this implementation, we will use for both equations the same element\ntype, \"CG\" (Continuous Galerking), of the first order, which can be created in FEniCS simply using::\n\n    cg1_element = fenics.FiniteElement(\"CG\", fenics.triangle, 1)  # define element\n    mixed_element = fenics.MixedElement([cg1_element] * 2)  # define mixed element\n    function_space = fenics.FunctionSpace(mesh, mixed_element)  # define function space for the given mesh\n\nHowever, the very same operation can be performed in just one line using the following method provided by\nmocafe:\n\n\n"
      ]
    },
    {
      "cell_type": "code",
      "execution_count": null,
      "metadata": {
        "collapsed": false
      },
      "outputs": [],
      "source": [
        "function_space = get_mixed_function_space(mesh, 2, \"CG\", 1)"
      ]
    },
    {
      "cell_type": "markdown",
      "metadata": {},
      "source": [
        "### Initial & boundary conditions\nSince the model is a system of PDEs, we need both initial and boundary conditions to find a unique solution.\n\nIn this implementation we will consider natural Neumann boundary conditions for both $\\varphi$ and\n:math`\\sigma`, which means that the derivative in space of the two fields is zero along the entire boundary.\nThis is an easy pick for FEniCS, since it will automatically apply this condition for us without requiring any\ncommand from the user.\n\nAs initial condition for $\\varphi$, according to another paper of the same author :cite:`Lorenzo2017`, we\nwill define an elliptical tumor with the given semiaxes:\n\n"
      ]
    },
    {
      "cell_type": "code",
      "execution_count": null,
      "metadata": {
        "collapsed": false
      },
      "outputs": [],
      "source": [
        "semiax_x = 100  # um\nsemiax_y = 150  # um"
      ]
    },
    {
      "cell_type": "markdown",
      "metadata": {},
      "source": [
        "With FEniCS we can do so by defining an expression which 'mathematically' represent our initial condition.\nIndeed, an ``Expression`` is the FEniCS way to define symbolic mathematical function and they can be defined\nusing simple C++ code as follows:\n\n.. code-block:: default\n\n   phi0_max = 1\n   phi0_min = 0\n   # cpp code that returns True if the point x is inside the ellipse, and False otherwise\n   is_in_ellipse_cpp_code = \"((pow(x[0] / semiax_x, 2)) + (pow(x[1] / semiax_y, 2)) <= 1)\"\n   # cpp code that returns 1 if the above statement is True, and 0 otherwise\n   phi0_cpp_code = is_in_ellipse_cpp_code + \" ? phi0_max : phi0_min\"\n   # FEniCS expression, built from cpp code defined above\n   phi0 = fenics.Expression(phi0_cpp_code,\n                            degree=2,\n                            semiax_x=semiax_x,\n                            semiax_y=semiax_y,\n                            phi0_max=phi0_max,\n                            phi0_min=phi0_min)\n\nHowever, if you don't feel confident in defining your own expression with the FEniCS interface, you can use\nthe one provided by mocafe:\n\n"
      ]
    },
    {
      "cell_type": "code",
      "execution_count": null,
      "metadata": {
        "collapsed": false
      },
      "outputs": [],
      "source": [
        "phi0 = EllipseField(center=np.array([0., 0.]),\n                    semiax_x=semiax_x,\n                    semiax_y=semiax_y,\n                    inside_value=parameters.get_value(\"phi0_in\"),\n                    outside_value=parameters.get_value(\"phi0_out\"))"
      ]
    },
    {
      "cell_type": "markdown",
      "metadata": {},
      "source": [
        "The FEniCS expression must then be interpolated in the function space in order to obtain a\nFEniCS Function. Again, explaining why we need to do so is something that goes beyond the purpose of this small\ndemo, but think about it as a necessary operation required to transform the 'symbolic' function provided by the\n``Expression`` into the actual set of values of our expression in our spatial domain, so we can use them to\ncalculate our solution.\n\nThe interpolation can be done simply calling the FEniCS method ``interpolate``, which takes as arguments the\nexpression to be projected and the function space where to do the projection. Notice that, since the function space\nwe defined is mixed, we must choose one of the sub-field to define the function.\n\n"
      ]
    },
    {
      "cell_type": "code",
      "execution_count": null,
      "metadata": {
        "collapsed": false
      },
      "outputs": [],
      "source": [
        "phi0 = fenics.interpolate(phi0, function_space.sub(0).collapse())"
      ]
    },
    {
      "cell_type": "markdown",
      "metadata": {},
      "source": [
        "Notice also that since the mixed function space is defined by two identical function spaces, it makes no\ndifference to pick sub(0) or sub(1).\n\nThen, we can save the initial condition of the $\\varphi$ field in the `.xdmf` file we defined at the\nbeginning, simply calling the method ``write(phi0, 0)``. The second argument, 0, just represent the fact that\nthis is the value of the field for the time 0. As we're going to see in the simulation, the file ``phi_xdmf`` can\ncollect the values of phi for each time.\n\n"
      ]
    },
    {
      "cell_type": "code",
      "execution_count": null,
      "metadata": {
        "collapsed": false
      },
      "outputs": [],
      "source": [
        "phi_xdmf.write(phi0, 0)"
      ]
    },
    {
      "cell_type": "markdown",
      "metadata": {},
      "source": [
        "Finally, after having defined the initial condition for $\\varphi$, let's define the initial for\n$\\sigma$. Following the hypothesis of original author :cite:`Lorenzo2017`, we will assume a nutrient\ndistribution that is 0.2 inside the cancer and 1. outside. So, we can define this distribution similarly to\nwhat we just did for ``phi0``:\n\n"
      ]
    },
    {
      "cell_type": "code",
      "execution_count": null,
      "metadata": {
        "collapsed": false
      },
      "outputs": [],
      "source": [
        "sigma0 = EllipseField(center=np.array([0., 0.]),\n                      semiax_x=semiax_x,\n                      semiax_y=semiax_y,\n                      inside_value=parameters.get_value(\"sigma0_in\"),\n                      outside_value=parameters.get_value(\"sigma0_out\"))\nsigma0 = fenics.interpolate(sigma0, function_space.sub(0).collapse())\nsigma_xdmf.write(sigma0, 0)"
      ]
    },
    {
      "cell_type": "markdown",
      "metadata": {},
      "source": [
        "### PDE System definition\nAfter having defined the initial conditions for the system, we continue with the definition of the system\nitself.\n\nFirst of all, we define the two variables, ``phi`` and ``sigma``, for which the system will be solved. Since the\ntwo equations are coupled (i.e. they depend on each other) the easiest way to do so is to define a 'vector'\nfunction ``u`` on the mixed function space:\n\n"
      ]
    },
    {
      "cell_type": "code",
      "execution_count": null,
      "metadata": {
        "collapsed": false
      },
      "outputs": [],
      "source": [
        "u = fenics.Function(function_space)"
      ]
    },
    {
      "cell_type": "markdown",
      "metadata": {},
      "source": [
        "And then to split the vector in its two components, which represent $\\varphi$ and $\\sigma$:\n\n"
      ]
    },
    {
      "cell_type": "code",
      "execution_count": null,
      "metadata": {
        "collapsed": false
      },
      "outputs": [],
      "source": [
        "phi, sigma = fenics.split(u)"
      ]
    },
    {
      "cell_type": "markdown",
      "metadata": {},
      "source": [
        "After having defined phi and sigma, we defined the $s$ function, which represent the distribution of\nnutrient that is supplied to the system.\n\nIn the original paper they simulated the model for both a constant distibution and for a randomic one. In\nthis implementation we chose to do the the latter, which is slightly more complex, even though made\nsimplier by the mocafe ``Expression`` ``PythonFunctionField``.\n\nThis class allows us to use a python function, such as a lambda function, to define the values of a FEniCS function.\nIn the following, indeed, we make use of a lambda function and of the methods provided by the module ``random``\nto define the random distribution mentioned above. Indeed, The pyhton function it is used by this class to evaluate\nthe value of the FEniCS function at each point of the mesh. Notice that the function given as imput must always have\nat least on input (x in this case), representing the spatial point.\n\n"
      ]
    },
    {
      "cell_type": "code",
      "execution_count": null,
      "metadata": {
        "collapsed": false
      },
      "outputs": [],
      "source": [
        "s_expression = PythonFunctionField(\n    python_fun=lambda x: parameters.get_value(\"s_average\") + random.uniform(parameters.get_value(\"s_min\"),\n                                                                          parameters.get_value(\"s_max\")),\n)"
      ]
    },
    {
      "cell_type": "markdown",
      "metadata": {},
      "source": [
        "Now, we have everything in place to define our PDE system. Since FEniCS uses the Finite Element Method (FEM) to\napproximate the solution we need to define the so called 'weak form' of our system. This operation is not difficult\nto do with the Unified Form Language (UFL) of FEniCS and, if you're not experienced with that, you are encouraged to\nhave a look to The Fenics Tutorial to start :cite:`LangtangenLogg2017`. However, the weak form of this system\nis already defined in mocefe, so we can exploit that without wondering too much about weak form construction:\n\n\n"
      ]
    },
    {
      "cell_type": "code",
      "execution_count": null,
      "metadata": {
        "collapsed": false
      },
      "outputs": [],
      "source": [
        "v1, v2 = fenics.TestFunctions(function_space)\nweak_form = pc_model.prostate_cancer_form(phi, phi0, sigma, v1, parameters) + \\\n    pc_model.prostate_cancer_nutrient_form(sigma, sigma0, phi, v2, s_expression, parameters)"
      ]
    },
    {
      "cell_type": "markdown",
      "metadata": {},
      "source": [
        "Still, you are invited to notice a couple of interesting things:\n\n- the trial function necessary to define every weak form are simply variables in FEniCS;\n- the variable ``weak_form`` is defined as the sum of two elements ``prostate_cancer_form`` and\n  ``prostate_cancer_nutrient_form``, which represent, of course, the two differential equations of the system\n- the variable ``weak_form`` depends on ``phi``, ``sigma``, their initial values, ``s``, and the model parameters,\n  exactly like the equations defined above\n\nThis was just to give you a taste of how simple it is to use UFL do define systems of differential equation, and how\nwell is integrated in Python. If you want to know more about it, you're again invited to have a look to The FEniCS\nTutorial :cite:`LangtangenLogg2017`.\n\n"
      ]
    },
    {
      "cell_type": "markdown",
      "metadata": {},
      "source": [
        "### Simulation setup\nNow that everything is set up, simulating this mathematical model is just a matter of solving the PDE system defined\nabove for each time step.\n\nTo do so, we start defining the total number of steps to simulate:\n\n"
      ]
    },
    {
      "cell_type": "code",
      "execution_count": null,
      "metadata": {
        "collapsed": false
      },
      "outputs": [],
      "source": [
        "n_steps = 100"
      ]
    },
    {
      "cell_type": "markdown",
      "metadata": {},
      "source": [
        "Then, we define a progress bar with ``tqdm`` in order to monitor the iteration progress. Notice that the progress\nbar is defined only if the rank of the process is 0. This is necessary to avoid every process to print out a\ndifferent progress bar.\n\n"
      ]
    },
    {
      "cell_type": "code",
      "execution_count": null,
      "metadata": {
        "collapsed": false
      },
      "outputs": [],
      "source": [
        "if rank == 0:\n    progress_bar = tqdm(total=n_steps, ncols=100)\nelse:\n    progress_bar = None"
      ]
    },
    {
      "cell_type": "markdown",
      "metadata": {},
      "source": [
        "Then, we need to define how we want FEniCS to solve or PDE system. This can be done with just a few lines of code in\nmocafe, which are necessary to set up the right solver for our problem:\n\n"
      ]
    },
    {
      "cell_type": "code",
      "execution_count": null,
      "metadata": {
        "collapsed": false
      },
      "outputs": [],
      "source": [
        "jacobian = fenics.derivative(weak_form, u)\nproblem = PETScProblem(jacobian, weak_form, [])\nsolver = PETScNewtonSolver({\"ksp_type\": \"gmres\", \"pc_type\": \"asm\"},\n                           mesh.mpi_comm())"
      ]
    },
    {
      "cell_type": "markdown",
      "metadata": {},
      "source": [
        "The few lines above might look a bit obscure if you're not experienced with FEM and numerical methods in general,\nbut we will do our best to clarify a bit.\n\nLike every numerical method, FEM translates a system of PDEs in an algebraic system of linear equations of which\nthe solution is an estimate of the real PDE system solution. FEniCS delegates the construction and the solution of\nthis system to `PETSc <https://petsc.org/release/>`_ (Portable, Extensible Toolkit for Scientific Computation),\nits default algebraic backend.\n\nThe job of the class ``PETScProblem`` is to construct the algebraic system of equations from the weak form,\nits jacobian matrix, and the boundary conditions. For our example:\n\n- we already defined the weak form above, so we can use it as it is;\n- we can retrieve the Jacobian matrix, which is a multidimensional version of the traditional matematical derivative,\n  symply calling the FEniCS command ``derivative``;\n- we left the list of boundary conditions empty (``[]``) because we are considering natural Neumann boundary\n  conditions, which are applied by default by the FEM method.\n\nThe job of the class ``PETScNewtonSolver``, instead, is to define the algorithm to be used to solve the 'problem'\ndefined above, and to apply it for the computation of the actual solution. The algorithm may be one of the many\navailable for solving algebraic systems of equations. The reason of the name 'Newton Solver` is just because\nthe system of PDEs we are solving is non-linear and thus it requires this class of solvers. More precisely, in this\nimplementation we are asking to PETSc to solve our system with a Krylov solver of type 'gmres'\n(``\"ksp_type\": \"gmres\"``) using a preconditioner called \"asm\" (``\"pc_type\": \"asm\"``). For further details, you\nare suggested to have a look to chapter 9 of the book \"The Finite Element Method: Theory, Implementation,\nand Applications\", by Larson and Bengzon :cite:`Larson2013`\n\n"
      ]
    },
    {
      "cell_type": "markdown",
      "metadata": {},
      "source": [
        "### Simulation\nFinally, we can iterate in time to solve the system with the given solver at each time step.\n\n"
      ]
    },
    {
      "cell_type": "code",
      "execution_count": null,
      "metadata": {
        "collapsed": false
      },
      "outputs": [],
      "source": [
        "t = 0\nfor current_step in range(n_steps):\n    # update time\n    t += parameters.get_value(\"dt\")\n\n    # solve the problem with the solver defined by the given parameters\n    solver.solve(problem, u.vector())\n\n    # save new values to phi0 and sigma0, in order for them to be the initial condition for the next step\n    fenics.assign([phi0, sigma0], u)\n\n    # save current solutions to file\n    phi_xdmf.write(phi0, t)  # write the value of phi at time t\n    sigma_xdmf.write(sigma0, t)  # write the value of sigma at time t\n\n    # update progress bar\n    if rank == 0:\n        progress_bar.update(1)"
      ]
    }
  ],
  "metadata": {
    "kernelspec": {
      "display_name": "Python 3",
      "language": "python",
      "name": "python3"
    },
    "language_info": {
      "codemirror_mode": {
        "name": "ipython",
        "version": 3
      },
      "file_extension": ".py",
      "mimetype": "text/x-python",
      "name": "python",
      "nbconvert_exporter": "python",
      "pygments_lexer": "ipython3",
      "version": "3.6.9"
    }
  },
  "nbformat": 4,
  "nbformat_minor": 0
}