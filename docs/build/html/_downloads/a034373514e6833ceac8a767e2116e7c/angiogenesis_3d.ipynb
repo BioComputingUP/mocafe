{
  "cells": [
    {
      "cell_type": "code",
      "execution_count": null,
      "metadata": {
        "collapsed": false
      },
      "outputs": [],
      "source": [
        "%matplotlib inline"
      ]
    },
    {
      "cell_type": "markdown",
      "metadata": {},
      "source": [
        "\n# Angiogenesis 3D\n\nIn this short demo we will show you how to simulate a phase field model described by Travasso et al. in 2011\n:cite:`Travasso2011a` using FEniCS and mocafe in 3D. You'll notice that the script is just the same of the 2D\ndemo: you just need to change the spatial domain!\n\n## How to run this example on mocafe\nMake sure you have FEniCS and mocafe and download the source script of this page (see above for the link).\n\nThen, download the parameters file for the simulation from\n:download:`this link<./demo_in/angiogenesis_3d/parameters.ods>` and place it inside the folder\n``demo_in/angiogenesis_3d``:\n\n.. code-block:: console\n\n    mkdir demo_in\n    mkdir demo_in/angiogenesis_3d\n    mv parameters.ods demo_in/angiogenesis_3d/\n\nThen, simply run it using python:\n\n.. code-block:: console\n\n    python3 angiogenesis_3d.py\n\nHowever, it is recommended to exploit parallelization to save simulation time:\n\n.. code-block:: console\n\n    mpirun -n 4 python3 angiogenesis_3d.py\n\nNotice that the number following the ``-n`` option is the number of MPI processes you're using for parallelizing the\nsimulation. You can change it accordingly with your CPU.\n\n## Note on 3D simulations\nThe computational effort required to solve a system in 3D is of orders of magnitude higher than to solve the same\nsystem in 2D. Thus, a normal laptop might be not able to compute the solution in reasonable time. Consider using\na powerful desktop computer or an HPC to simulate the system.\n\n## Visualize the results of this simulation\nYou need to have `Paraview <https://www.paraview.org/>`_ to visualize the results. Once you have installed it,\nyou can easly import the ``.xdmf`` files generated during the simulation and visualize the result.\n\n"
      ]
    },
    {
      "cell_type": "markdown",
      "metadata": {},
      "source": [
        "## Implementation\n\nOne of the great things of differential equations is that they are not really constrained to a specific space\ndimension. With appropriate initial and boundary conditions, you can possibly find the solution of a differential\nequation in any possible space. This is not always true for the software implementations of such differential\nequations; however, FEniCS and *mocafe* are designed to follow just the same philosophy. So, you'll notice this\nscript is extremely similar to the one used for the 2D simulation.\n\n### Setup\nThe setup is just the same as before; we just added a progress bar to follow the setup\n(that might take a while) and we changed the data folder, in order to separate the generated\ndata. Also, notice that the parameters file is different. However, if you compare the file \nwith the one we provided you for the 2D examples, you'll notice that there are just small\nvariations.\n\n"
      ]
    },
    {
      "cell_type": "code",
      "execution_count": null,
      "metadata": {
        "collapsed": false
      },
      "outputs": [],
      "source": [
        "import fenics\nfrom tqdm import tqdm\nfrom pathlib import Path\nimport petsc4py\nimport mocafe.fenut.fenut as fu\nimport mocafe.fenut.mansimdata as mansimd\nfrom mocafe.angie import af_sourcing, tipcells\nfrom mocafe.angie.forms import angiogenesis_form, angiogenic_factor_form\nimport mocafe.fenut.parameters as mpar\nfrom mocafe.fenut.solvers import SNESProblem\n\n# get MPI comm and rank\ncomm = fenics.MPI.comm_world\nrank = comm.Get_rank()\n\n# create pbar for setup\nif rank == 0:\n    setup_pbar = tqdm(total=8, desc=\"setting up\")\nelse:\n    setup_pbar = None\n\n# only process 0 logs\nfenics.parameters[\"std_out_all_processes\"] = False\n# set log level ERROR\nfenics.set_log_level(fenics.LogLevel.ERROR)\n# define data folder\nfile_folder = Path(__file__).parent.resolve()\ndata_folder = mansimd.setup_data_folder(folder_path=f\"{file_folder/Path('demo_out')}/angiogenesis_3d\",\n                                        auto_enumerate=False)\n\n# setup xdmf files\nfile_names = [\"c\", \"af\", \"tipcells\", \"mesh\"]\nfile_c, file_af, tipcells_xdmf, mesh_xdmf = fu.setup_xdmf_files(file_names, data_folder)\n\n# setup parameters\nfile_folder = Path(__file__).parent.resolve()\nparameters_file = file_folder/Path(\"demo_in/angiogenesis_3d/parameters.ods\")\nparameters = mpar.from_ods_sheet(parameters_file, \"SimParams\")"
      ]
    },
    {
      "cell_type": "markdown",
      "metadata": {},
      "source": [
        "### Definition of the spatial domain and the function space\nThis is the one of the only changes we need to do: we need to define a 3D domain. However, we can do that with ease\nusing a ``BoxMesh``. Of course, creating a 3D mesh takes longer than a 2D mesh; thus, we placed an if statement to\nmake FEniCS generate the mesh at the first run of the script, save it in the data folder, and reload it in all the\nfollowing runs.\n\n"
      ]
    },
    {
      "cell_type": "code",
      "execution_count": null,
      "metadata": {
        "collapsed": false
      },
      "outputs": [],
      "source": [
        "Lx = parameters.get_value(\"Lx\")\nLy = parameters.get_value(\"Ly\")\nLz = parameters.get_value(\"Lz\")\nnx = int(parameters.get_value(\"nx\"))\nny = int(parameters.get_value(\"ny\"))\nnz = int(parameters.get_value(\"nz\"))\nmesh_file = data_folder / Path(\"mesh.xdmf\")\n\n# check if mesh has already been created\nif mesh_file.exists():\n    if rank == 0:\n        setup_pbar.update(1)\n        setup_pbar.set_description(\"loading mesh\")\n\n    # in the case, load it\n    mesh = fenics.Mesh()\n    mesh_xdmf.read(mesh)\nelse:\n    if rank == 0:\n        setup_pbar.update(1)\n        setup_pbar.set_description(\"creating mesh\")\n\n    # create mesh\n    mesh = fenics.BoxMesh(fenics.Point(0., 0., 0.),\n                          fenics.Point(Lx, Ly, Lz),\n                          nx,\n                          ny,\n                          nz)\n    # read it to file for following runs\n    mesh_xdmf.write(mesh)"
      ]
    },
    {
      "cell_type": "markdown",
      "metadata": {},
      "source": [
        "From the mesh, we can again define the function space in the same way we did in the 2D simulation. Indeed, the\nsystem of differential equations is the same and FEniCS will take care of defining the \"3D-version\" of the polynomial\nfunctions. Remember that, even though there are just two variables $c$ and $af$, we also need to\nconsider an auxiliary variable $mu$ for the $c$ field (see demo for the 2D case).\n\n"
      ]
    },
    {
      "cell_type": "code",
      "execution_count": null,
      "metadata": {
        "collapsed": false
      },
      "outputs": [],
      "source": [
        "# for c and af\nfunction_space = fu.get_mixed_function_space(mesh, 3, \"CG\", 1)\n# for grad_T\ngrad_af_function_space = fenics.VectorFunctionSpace(mesh, \"CG\", 1)"
      ]
    },
    {
      "cell_type": "markdown",
      "metadata": {},
      "source": [
        "### Initial & boundary conditions\nAgain, in this implementation we will consider natural Neumann boundary conditions for both $c$ and\n:math`af`.\n\nAs initial condition for $c$, the most natural choice to resemble the results of Travasso and his collaborators\n:cite:`Travasso2011a` is to define a cylindrical blood vessel on one side of the mesh. To do so, we will use again\nthe standard fenics interface for defining an ``Expression``:\n\n"
      ]
    },
    {
      "cell_type": "code",
      "execution_count": null,
      "metadata": {
        "collapsed": false
      },
      "outputs": [],
      "source": [
        "if rank == 0:\n    setup_pbar.update(1)\n    setup_pbar.set_description(\"generating initial conditions\")\n\ninitial_vessel_radius = parameters.get_value(\"initial_vessel_width\")\nc_exp = fenics.Expression(\"((pow(x[0], 2) + pow(x[2] - Lz/2, 2)) < pow(R_v, 2)) ? 1 : -1\",\n                          degree=2,\n                          R_v=initial_vessel_radius,\n                          Lz=Lz)\n\nif rank == 0:\n    setup_pbar.update(1)\n    setup_pbar.set_description(\"interpolating c_0 and af_0\")\n\nc_0 = fenics.interpolate(c_exp, function_space.sub(0).collapse())\nmu_0 = fenics.interpolate(fenics.Constant(0.), function_space.sub(0).collapse())"
      ]
    },
    {
      "cell_type": "markdown",
      "metadata": {},
      "source": [
        "As initial condition for $af$, we can just use the ``RandomSourceMap`` object and the ``SourcesManager`` just\nas we did in the 2D demo. Both of them are indeed designed to work just the same in 2D and 3D, with the only\ndifference that, in 3D, the cells are spheres instead of circles.\n\n"
      ]
    },
    {
      "cell_type": "code",
      "execution_count": null,
      "metadata": {
        "collapsed": false
      },
      "outputs": [],
      "source": [
        "# define source map\nif rank == 0:\n    setup_pbar.update(1)\n    setup_pbar.set_description(\"creating sources map\")\n\nn_sources = int(parameters.get_value(\"n_sources\"))\ncylinder_radius = initial_vessel_radius + parameters.get_value(\"d\")\nsources_map = af_sourcing.RandomSourceMap(mesh,\n                                          n_sources,\n                                          parameters,\n                                          where=lambda x: (x[0]**2 + (x[2] - Lz/2)**2) > (cylinder_radius**2))\n# define sources manager\nsources_manager = af_sourcing.SourcesManager(sources_map, mesh, parameters)\n# apply sources to af\naf_0 = fenics.interpolate(fenics.Constant(0.), function_space.sub(0).collapse())\n\nif rank == 0:\n    setup_pbar.update(1)\n    setup_pbar.set_description(\"applying sources\")\n\nsources_manager.apply_sources(af_0)\n\n# write initial conditions\nfile_af.write(af_0, 0)\nfile_c.write(c_0, 0)\n\n# init tipcell field\ntipcells_field = fenics.Function(function_space.sub(0).collapse())\n\n# init grad af\nif rank == 0:\n    setup_pbar.update(1)\n    setup_pbar.set_description(\"projecting grad_af\")\n\ngrad_af = fenics.Function(grad_af_function_space)\ngrad_af.assign(  # assign to grad_af\n    fenics.project(fenics.grad(af_0), grad_af_function_space,\n                   solver_type=\"gmres\", preconditioner_type=\"amg\")  # the projection on the fun space of grad(af_0)\n)"
      ]
    },
    {
      "cell_type": "markdown",
      "metadata": {},
      "source": [
        "### PDE System definition\nExactly how the differential equations don't change from 2D to 3D, the PDE definition remains the same. Indeed,\nyou can notice that the code it's just identical to the 2D demo, except for the update of ``setup_pbar``:\n\n"
      ]
    },
    {
      "cell_type": "code",
      "execution_count": null,
      "metadata": {
        "collapsed": false
      },
      "outputs": [],
      "source": [
        "if rank == 0:\n    setup_pbar.update(1)\n    setup_pbar.set_description(\"defining weak form\")\n\n# init test functions\nv1, v2, v3 = fenics.TestFunctions(function_space)\n\n# init variables\nu = fenics.Function(function_space)\naf, c, mu = fenics.split(u)\n\n# form\nform_af = angiogenic_factor_form(af, af_0, c, v1, parameters)\nform_ang = angiogenesis_form(c, c_0, mu, mu_0, v2, v3, af, parameters)\nweak_form = form_af + form_ang"
      ]
    },
    {
      "cell_type": "markdown",
      "metadata": {},
      "source": [
        "### Simulation setup\nNow that everything is set up we can proceed to the actual simulation, that, just as before, will start with the\ndefinition of the ``TipCellsManager``:\n\n"
      ]
    },
    {
      "cell_type": "code",
      "execution_count": null,
      "metadata": {
        "collapsed": false
      },
      "outputs": [],
      "source": [
        "tip_cell_manager = tipcells.TipCellManager(mesh,\n                                           parameters)\n\n# update\nif rank == 0:\n    setup_pbar.update(1)\n    setup_pbar.set_description(\"starting simulation\")"
      ]
    },
    {
      "cell_type": "markdown",
      "metadata": {},
      "source": [
        "After that, everything will just work the same. For efficiency, we make use of the PETSc SNES solver to solve the\ndifferential equations this time, but this is the only change we made to the 2D demo code.\n\n"
      ]
    },
    {
      "cell_type": "code",
      "execution_count": null,
      "metadata": {
        "collapsed": false
      },
      "outputs": [],
      "source": [
        "t = 0.\nn_steps = 200\nif rank == 0:\n    pbar = tqdm(total=n_steps, ncols=100, position=1, desc=\"simulation\")\nelse:\n    pbar = None\n\npetsc4py.init([__name__,\n               \"-snes_type\", \"newtonls\",\n               \"-ksp_type\", \"gmres\",\n               \"-pc_type\", \"gamg\"])\nfrom petsc4py import PETSc\n\n# create snes solver\nsnes_solver = PETSc.SNES().create(comm)\nsnes_solver.setFromOptions()\n\n# start iteration in time\nfor step in range(1, n_steps + 1):\n    # update time\n    t += parameters.get_value(\"dt\")\n\n    # turn off near sources\n    sources_manager.remove_sources_near_vessels(c_0)\n\n    # activate tip cell\n    tip_cell_manager.activate_tip_cell(c_0, af_0, grad_af, step)\n\n    # revert tip cells\n    tip_cell_manager.revert_tip_cells(af_0, grad_af)\n\n    # move tip cells\n    tip_cell_manager.move_tip_cells(c_0, af_0, grad_af)\n\n    # get tip cells field\n    tipcells_field.assign(tip_cell_manager.get_latest_tip_cell_function())\n\n    # solve the problem with the solver defined by the given parameters\n    problem = SNESProblem(weak_form, u, [])\n    b = fenics.PETScVector()\n    J_mat = fenics.PETScMatrix()\n    snes_solver.setFunction(problem.F, b.vec())\n    snes_solver.setJacobian(problem.J, J_mat.mat())\n    snes_solver.solve(None, u.vector().vec())\n\n    # assign u to the initial conditions functions\n    fenics.assign([af_0, c_0, mu_0], u)\n\n    # update source field\n    sources_manager.apply_sources(af_0)\n\n    # compute grad_T\n    grad_af.assign(\n        fenics.project(fenics.grad(af_0), grad_af_function_space,\n                       solver_type=\"gmres\", preconditioner_type=\"amg\")\n    )\n\n    # save data\n    file_af.write(af_0, t)\n    file_c.write(c_0, t)\n    tipcells_xdmf.write(tipcells_field, t)\n\n    if rank == 0:\n        pbar.update(1)"
      ]
    },
    {
      "cell_type": "markdown",
      "metadata": {},
      "source": [
        "## Full code\n\n.. code-block:: default\n\n  import fenics\n  from tqdm import tqdm\n  from pathlib import Path\n  import petsc4py\n  import mocafe.fenut.fenut as fu\n  import mocafe.fenut.mansimdata as mansimd\n  from mocafe.angie import af_sourcing, tipcells\n  from mocafe.angie.forms import angiogenesis_form, angiogenic_factor_form\n  import mocafe.fenut.parameters as mpar\n  from mocafe.fenut.solvers import SNESProblem\n\n  # get MPI comm and rank\n  comm = fenics.MPI.comm_world\n  rank = comm.Get_rank()\n\n  # create pbar for setup\n  if rank == 0:\n      setup_pbar = tqdm(total=8, desc=\"setting up\")\n  else:\n      setup_pbar = None\n\n  # only process 0 logs\n  fenics.parameters[\"std_out_all_processes\"] = False\n  # set log level ERROR\n  fenics.set_log_level(fenics.LogLevel.ERROR)\n  # define data folder\n  file_folder = Path(__file__).parent.resolve()\n  data_folder = mansimd.setup_data_folder(folder_path=f\"{file_folder/Path('demo_out')}/angiogenesis_3d\",\n                                          auto_enumerate=False)\n\n  # setup xdmf files\n  file_names = [\"c\", \"af\", \"tipcells\", \"mesh\"]\n  file_c, file_af, tipcells_xdmf, mesh_xdmf = fu.setup_xdmf_files(file_names, data_folder)\n\n  # setup parameters\n  file_folder = Path(__file__).parent.resolve()\n  parameters_file = file_folder/Path(\"demo_in/angiogenesis_3d/parameters.ods\")\n  parameters = mpar.from_ods_sheet(parameters_file, \"SimParams\")\n\n  Lx = parameters.get_value(\"Lx\")\n  Ly = parameters.get_value(\"Ly\")\n  Lz = parameters.get_value(\"Lz\")\n  nx = int(parameters.get_value(\"nx\"))\n  ny = int(parameters.get_value(\"ny\"))\n  nz = int(parameters.get_value(\"nz\"))\n  mesh_file = data_folder / Path(\"mesh.xdmf\")\n\n  # check if mesh has already been created\n  if mesh_file.exists():\n      if rank == 0:\n          setup_pbar.update(1)\n          setup_pbar.set_description(\"loading mesh\")\n\n      # in the case, load it\n      mesh = fenics.Mesh()\n      mesh_xdmf.read(mesh)\n  else:\n      if rank == 0:\n          setup_pbar.update(1)\n          setup_pbar.set_description(\"creating mesh\")\n\n      # create mesh\n      mesh = fenics.BoxMesh(fenics.Point(0., 0., 0.),\n                            fenics.Point(Lx, Ly, Lz),\n                            nx,\n                            ny,\n                            nz)\n      # read it to file for following runs\n      mesh_xdmf.write(mesh)\n\n\n  # for c and af\n  function_space = fu.get_mixed_function_space(mesh, 3, \"CG\", 1)\n  # for grad_T\n  grad_af_function_space = fenics.VectorFunctionSpace(mesh, \"CG\", 1)\n\n\n  if rank == 0:\n      setup_pbar.update(1)\n      setup_pbar.set_description(\"generating initial conditions\")\n\n  initial_vessel_radius = parameters.get_value(\"initial_vessel_width\")\n  c_exp = fenics.Expression(\"((pow(x[0], 2) + pow(x[2] - Lz/2, 2)) < pow(R_v, 2)) ? 1 : -1\",\n                            degree=2,\n                            R_v=initial_vessel_radius,\n                            Lz=Lz)\n\n  if rank == 0:\n      setup_pbar.update(1)\n      setup_pbar.set_description(\"interpolating c_0 and af_0\")\n\n  c_0 = fenics.interpolate(c_exp, function_space.sub(0).collapse())\n  mu_0 = fenics.interpolate(fenics.Constant(0.), function_space.sub(0).collapse())\n\n\n  # define source map\n  if rank == 0:\n      setup_pbar.update(1)\n      setup_pbar.set_description(\"creating sources map\")\n\n  n_sources = int(parameters.get_value(\"n_sources\"))\n  cylinder_radius = initial_vessel_radius + parameters.get_value(\"d\")\n  sources_map = af_sourcing.RandomSourceMap(mesh,\n                                            n_sources,\n                                            parameters,\n                                            where=lambda x: (x[0]**2 + (x[2] - Lz/2)**2) > (cylinder_radius**2))\n  # define sources manager\n  sources_manager = af_sourcing.SourcesManager(sources_map, mesh, parameters)\n  # apply sources to af\n  af_0 = fenics.interpolate(fenics.Constant(0.), function_space.sub(0).collapse())\n\n  if rank == 0:\n      setup_pbar.update(1)\n      setup_pbar.set_description(\"applying sources\")\n\n  sources_manager.apply_sources(af_0)\n\n  # write initial conditions\n  file_af.write(af_0, 0)\n  file_c.write(c_0, 0)\n\n  # init tipcell field\n  tipcells_field = fenics.Function(function_space.sub(0).collapse())\n\n  # init grad af\n  if rank == 0:\n      setup_pbar.update(1)\n      setup_pbar.set_description(\"projecting grad_af\")\n\n  grad_af = fenics.Function(grad_af_function_space)\n  grad_af.assign(  # assign to grad_af\n      fenics.project(fenics.grad(af_0), grad_af_function_space,\n                     solver_type=\"gmres\", preconditioner_type=\"amg\")  # the projection on the fun space of grad(af_0)\n  )\n\n\n  if rank == 0:\n      setup_pbar.update(1)\n      setup_pbar.set_description(\"defining weak form\")\n\n  # init test functions\n  v1, v2, v3 = fenics.TestFunctions(function_space)\n\n  # init variables\n  u = fenics.Function(function_space)\n  af, c, mu = fenics.split(u)\n\n  # form\n  form_af = angiogenic_factor_form(af, af_0, c, v1, parameters)\n  form_ang = angiogenesis_form(c, c_0, mu, mu_0, v2, v3, af, parameters)\n  weak_form = form_af + form_ang\n\n  tip_cell_manager = tipcells.TipCellManager(mesh,\n                                             parameters)\n\n  # update\n  if rank == 0:\n      setup_pbar.update(1)\n      setup_pbar.set_description(\"starting simulation\")\n\n  t = 0.\n  n_steps = 200\n  if rank == 0:\n      pbar = tqdm(total=n_steps, ncols=100, position=1, desc=\"simulation\")\n  else:\n      pbar = None\n\n  petsc4py.init([__name__,\n                 \"-snes_type\", \"newtonls\",\n                 \"-ksp_type\", \"gmres\",\n                 \"-pc_type\", \"gamg\"])\n  from petsc4py import PETSc\n\n  # create snes solver\n  snes_solver = PETSc.SNES().create(comm)\n  snes_solver.setFromOptions()\n\n  # start iteration in time\n  for step in range(1, n_steps + 1):\n      # update time\n      t += parameters.get_value(\"dt\")\n\n      # turn off near sources\n      sources_manager.remove_sources_near_vessels(c_0)\n\n      # activate tip cell\n      tip_cell_manager.activate_tip_cell(c_0, af_0, grad_af, step)\n\n      # revert tip cells\n      tip_cell_manager.revert_tip_cells(af_0, grad_af)\n\n      # move tip cells\n      tip_cell_manager.move_tip_cells(c_0, af_0, grad_af)\n\n      # get tip cells field\n      tipcells_field.assign(tip_cell_manager.get_latest_tip_cell_function())\n\n      # solve the problem with the solver defined by the given parameters\n      problem = SNESProblem(weak_form, u, [])\n      b = fenics.PETScVector()\n      J_mat = fenics.PETScMatrix()\n      snes_solver.setFunction(problem.F, b.vec())\n      snes_solver.setJacobian(problem.J, J_mat.mat())\n      snes_solver.solve(None, u.vector().vec())\n\n      # assign u to the initial conditions functions\n      fenics.assign([af_0, c_0, mu_0], u)\n\n      # update source field\n      sources_manager.apply_sources(af_0)\n\n      # compute grad_T\n      grad_af.assign(\n          fenics.project(fenics.grad(af_0), grad_af_function_space,\n                         solver_type=\"gmres\", preconditioner_type=\"amg\")\n      )\n\n      # save data\n      file_af.write(af_0, t)\n      file_c.write(c_0, t)\n      tipcells_xdmf.write(tipcells_field, t)\n\n      if rank == 0:\n          pbar.update(1)\n"
      ]
    }
  ],
  "metadata": {
    "kernelspec": {
      "display_name": "Python 3",
      "language": "python",
      "name": "python3"
    },
    "language_info": {
      "codemirror_mode": {
        "name": "ipython",
        "version": 3
      },
      "file_extension": ".py",
      "mimetype": "text/x-python",
      "name": "python",
      "nbconvert_exporter": "python",
      "pygments_lexer": "ipython3",
      "version": "3.6.9"
    }
  },
  "nbformat": 4,
  "nbformat_minor": 0
}